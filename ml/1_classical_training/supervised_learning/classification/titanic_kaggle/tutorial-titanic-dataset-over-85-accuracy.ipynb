{
 "cells": [
  {
   "cell_type": "code",
   "execution_count": 1,
   "id": "f34cdd31",
   "metadata": {
    "_cell_guid": "b1076dfc-b9ad-4769-8c92-a6c4dae69d19",
    "_uuid": "8f2839f25d086af736a60e9eeb907d3b93b6e0e5",
    "execution": {
     "iopub.execute_input": "2023-04-11T05:30:49.089193Z",
     "iopub.status.busy": "2023-04-11T05:30:49.088648Z",
     "iopub.status.idle": "2023-04-11T05:30:49.107244Z",
     "shell.execute_reply": "2023-04-11T05:30:49.105931Z"
    },
    "papermill": {
     "duration": 0.034857,
     "end_time": "2023-04-11T05:30:49.110258",
     "exception": false,
     "start_time": "2023-04-11T05:30:49.075401",
     "status": "completed"
    },
    "tags": []
   },
   "outputs": [
    {
     "name": "stdout",
     "output_type": "stream",
     "text": [
      "/kaggle/input/titanic/train.csv\n",
      "/kaggle/input/titanic/test.csv\n",
      "/kaggle/input/titanic/gender_submission.csv\n"
     ]
    }
   ],
   "source": [
    "# This Python 3 environment comes with many helpful analytics libraries installed\n",
    "# It is defined by the kaggle/python Docker image: https://github.com/kaggle/docker-python\n",
    "# For example, here's several helpful packages to load\n",
    "\n",
    "import numpy as np # linear algebra\n",
    "import pandas as pd # data processing, CSV file I/O (e.g. pd.read_csv)\n",
    "\n",
    "# Input data files are available in the read-only \"../input/\" directory\n",
    "# For example, running this (by clicking run or pressing Shift+Enter) will list all files under the input directory\n",
    "\n",
    "import os\n",
    "for dirname, _, filenames in os.walk('/kaggle/input'):\n",
    "    for filename in filenames:\n",
    "        print(os.path.join(dirname, filename))\n",
    "\n",
    "# You can write up to 20GB to the current directory (/kaggle/working/) that gets preserved as output when you create a version using \"Save & Run All\" \n",
    "# You can also write temporary files to /kaggle/temp/, but they won't be saved outside of the current session"
   ]
  },
  {
   "cell_type": "markdown",
   "id": "5740825f",
   "metadata": {
    "papermill": {
     "duration": 0.010448,
     "end_time": "2023-04-11T05:30:49.130965",
     "exception": false,
     "start_time": "2023-04-11T05:30:49.120517",
     "status": "completed"
    },
    "tags": []
   },
   "source": [
    "## **Data loading**"
   ]
  },
  {
   "cell_type": "code",
   "execution_count": 2,
   "id": "96727de5",
   "metadata": {
    "execution": {
     "iopub.execute_input": "2023-04-11T05:30:49.152769Z",
     "iopub.status.busy": "2023-04-11T05:30:49.152328Z",
     "iopub.status.idle": "2023-04-11T05:30:49.200649Z",
     "shell.execute_reply": "2023-04-11T05:30:49.199414Z"
    },
    "papermill": {
     "duration": 0.062563,
     "end_time": "2023-04-11T05:30:49.203374",
     "exception": false,
     "start_time": "2023-04-11T05:30:49.140811",
     "status": "completed"
    },
    "tags": []
   },
   "outputs": [
    {
     "data": {
      "text/html": [
       "<div>\n",
       "<style scoped>\n",
       "    .dataframe tbody tr th:only-of-type {\n",
       "        vertical-align: middle;\n",
       "    }\n",
       "\n",
       "    .dataframe tbody tr th {\n",
       "        vertical-align: top;\n",
       "    }\n",
       "\n",
       "    .dataframe thead th {\n",
       "        text-align: right;\n",
       "    }\n",
       "</style>\n",
       "<table border=\"1\" class=\"dataframe\">\n",
       "  <thead>\n",
       "    <tr style=\"text-align: right;\">\n",
       "      <th></th>\n",
       "      <th>PassengerId</th>\n",
       "      <th>Survived</th>\n",
       "      <th>Pclass</th>\n",
       "      <th>Name</th>\n",
       "      <th>Sex</th>\n",
       "      <th>Age</th>\n",
       "      <th>SibSp</th>\n",
       "      <th>Parch</th>\n",
       "      <th>Ticket</th>\n",
       "      <th>Fare</th>\n",
       "      <th>Cabin</th>\n",
       "      <th>Embarked</th>\n",
       "    </tr>\n",
       "  </thead>\n",
       "  <tbody>\n",
       "    <tr>\n",
       "      <th>0</th>\n",
       "      <td>1</td>\n",
       "      <td>0</td>\n",
       "      <td>3</td>\n",
       "      <td>Braund, Mr. Owen Harris</td>\n",
       "      <td>male</td>\n",
       "      <td>22.0</td>\n",
       "      <td>1</td>\n",
       "      <td>0</td>\n",
       "      <td>A/5 21171</td>\n",
       "      <td>7.2500</td>\n",
       "      <td>NaN</td>\n",
       "      <td>S</td>\n",
       "    </tr>\n",
       "    <tr>\n",
       "      <th>1</th>\n",
       "      <td>2</td>\n",
       "      <td>1</td>\n",
       "      <td>1</td>\n",
       "      <td>Cumings, Mrs. John Bradley (Florence Briggs Th...</td>\n",
       "      <td>female</td>\n",
       "      <td>38.0</td>\n",
       "      <td>1</td>\n",
       "      <td>0</td>\n",
       "      <td>PC 17599</td>\n",
       "      <td>71.2833</td>\n",
       "      <td>C85</td>\n",
       "      <td>C</td>\n",
       "    </tr>\n",
       "    <tr>\n",
       "      <th>2</th>\n",
       "      <td>3</td>\n",
       "      <td>1</td>\n",
       "      <td>3</td>\n",
       "      <td>Heikkinen, Miss. Laina</td>\n",
       "      <td>female</td>\n",
       "      <td>26.0</td>\n",
       "      <td>0</td>\n",
       "      <td>0</td>\n",
       "      <td>STON/O2. 3101282</td>\n",
       "      <td>7.9250</td>\n",
       "      <td>NaN</td>\n",
       "      <td>S</td>\n",
       "    </tr>\n",
       "    <tr>\n",
       "      <th>3</th>\n",
       "      <td>4</td>\n",
       "      <td>1</td>\n",
       "      <td>1</td>\n",
       "      <td>Futrelle, Mrs. Jacques Heath (Lily May Peel)</td>\n",
       "      <td>female</td>\n",
       "      <td>35.0</td>\n",
       "      <td>1</td>\n",
       "      <td>0</td>\n",
       "      <td>113803</td>\n",
       "      <td>53.1000</td>\n",
       "      <td>C123</td>\n",
       "      <td>S</td>\n",
       "    </tr>\n",
       "    <tr>\n",
       "      <th>4</th>\n",
       "      <td>5</td>\n",
       "      <td>0</td>\n",
       "      <td>3</td>\n",
       "      <td>Allen, Mr. William Henry</td>\n",
       "      <td>male</td>\n",
       "      <td>35.0</td>\n",
       "      <td>0</td>\n",
       "      <td>0</td>\n",
       "      <td>373450</td>\n",
       "      <td>8.0500</td>\n",
       "      <td>NaN</td>\n",
       "      <td>S</td>\n",
       "    </tr>\n",
       "  </tbody>\n",
       "</table>\n",
       "</div>"
      ],
      "text/plain": [
       "   PassengerId  Survived  Pclass  \\\n",
       "0            1         0       3   \n",
       "1            2         1       1   \n",
       "2            3         1       3   \n",
       "3            4         1       1   \n",
       "4            5         0       3   \n",
       "\n",
       "                                                Name     Sex   Age  SibSp  \\\n",
       "0                            Braund, Mr. Owen Harris    male  22.0      1   \n",
       "1  Cumings, Mrs. John Bradley (Florence Briggs Th...  female  38.0      1   \n",
       "2                             Heikkinen, Miss. Laina  female  26.0      0   \n",
       "3       Futrelle, Mrs. Jacques Heath (Lily May Peel)  female  35.0      1   \n",
       "4                           Allen, Mr. William Henry    male  35.0      0   \n",
       "\n",
       "   Parch            Ticket     Fare Cabin Embarked  \n",
       "0      0         A/5 21171   7.2500   NaN        S  \n",
       "1      0          PC 17599  71.2833   C85        C  \n",
       "2      0  STON/O2. 3101282   7.9250   NaN        S  \n",
       "3      0            113803  53.1000  C123        S  \n",
       "4      0            373450   8.0500   NaN        S  "
      ]
     },
     "execution_count": 2,
     "metadata": {},
     "output_type": "execute_result"
    }
   ],
   "source": [
    "train_X = pd.read_csv(\"../input/titanic/train.csv\")\n",
    "train_X.head()"
   ]
  },
  {
   "cell_type": "code",
   "execution_count": 3,
   "id": "2945cabf",
   "metadata": {
    "execution": {
     "iopub.execute_input": "2023-04-11T05:30:49.227341Z",
     "iopub.status.busy": "2023-04-11T05:30:49.226948Z",
     "iopub.status.idle": "2023-04-11T05:30:49.249985Z",
     "shell.execute_reply": "2023-04-11T05:30:49.248560Z"
    },
    "papermill": {
     "duration": 0.038618,
     "end_time": "2023-04-11T05:30:49.252534",
     "exception": false,
     "start_time": "2023-04-11T05:30:49.213916",
     "status": "completed"
    },
    "tags": []
   },
   "outputs": [
    {
     "data": {
      "text/html": [
       "<div>\n",
       "<style scoped>\n",
       "    .dataframe tbody tr th:only-of-type {\n",
       "        vertical-align: middle;\n",
       "    }\n",
       "\n",
       "    .dataframe tbody tr th {\n",
       "        vertical-align: top;\n",
       "    }\n",
       "\n",
       "    .dataframe thead th {\n",
       "        text-align: right;\n",
       "    }\n",
       "</style>\n",
       "<table border=\"1\" class=\"dataframe\">\n",
       "  <thead>\n",
       "    <tr style=\"text-align: right;\">\n",
       "      <th></th>\n",
       "      <th>PassengerId</th>\n",
       "      <th>Pclass</th>\n",
       "      <th>Name</th>\n",
       "      <th>Sex</th>\n",
       "      <th>Age</th>\n",
       "      <th>SibSp</th>\n",
       "      <th>Parch</th>\n",
       "      <th>Ticket</th>\n",
       "      <th>Fare</th>\n",
       "      <th>Cabin</th>\n",
       "      <th>Embarked</th>\n",
       "    </tr>\n",
       "  </thead>\n",
       "  <tbody>\n",
       "    <tr>\n",
       "      <th>0</th>\n",
       "      <td>892</td>\n",
       "      <td>3</td>\n",
       "      <td>Kelly, Mr. James</td>\n",
       "      <td>male</td>\n",
       "      <td>34.5</td>\n",
       "      <td>0</td>\n",
       "      <td>0</td>\n",
       "      <td>330911</td>\n",
       "      <td>7.8292</td>\n",
       "      <td>NaN</td>\n",
       "      <td>Q</td>\n",
       "    </tr>\n",
       "    <tr>\n",
       "      <th>1</th>\n",
       "      <td>893</td>\n",
       "      <td>3</td>\n",
       "      <td>Wilkes, Mrs. James (Ellen Needs)</td>\n",
       "      <td>female</td>\n",
       "      <td>47.0</td>\n",
       "      <td>1</td>\n",
       "      <td>0</td>\n",
       "      <td>363272</td>\n",
       "      <td>7.0000</td>\n",
       "      <td>NaN</td>\n",
       "      <td>S</td>\n",
       "    </tr>\n",
       "    <tr>\n",
       "      <th>2</th>\n",
       "      <td>894</td>\n",
       "      <td>2</td>\n",
       "      <td>Myles, Mr. Thomas Francis</td>\n",
       "      <td>male</td>\n",
       "      <td>62.0</td>\n",
       "      <td>0</td>\n",
       "      <td>0</td>\n",
       "      <td>240276</td>\n",
       "      <td>9.6875</td>\n",
       "      <td>NaN</td>\n",
       "      <td>Q</td>\n",
       "    </tr>\n",
       "    <tr>\n",
       "      <th>3</th>\n",
       "      <td>895</td>\n",
       "      <td>3</td>\n",
       "      <td>Wirz, Mr. Albert</td>\n",
       "      <td>male</td>\n",
       "      <td>27.0</td>\n",
       "      <td>0</td>\n",
       "      <td>0</td>\n",
       "      <td>315154</td>\n",
       "      <td>8.6625</td>\n",
       "      <td>NaN</td>\n",
       "      <td>S</td>\n",
       "    </tr>\n",
       "    <tr>\n",
       "      <th>4</th>\n",
       "      <td>896</td>\n",
       "      <td>3</td>\n",
       "      <td>Hirvonen, Mrs. Alexander (Helga E Lindqvist)</td>\n",
       "      <td>female</td>\n",
       "      <td>22.0</td>\n",
       "      <td>1</td>\n",
       "      <td>1</td>\n",
       "      <td>3101298</td>\n",
       "      <td>12.2875</td>\n",
       "      <td>NaN</td>\n",
       "      <td>S</td>\n",
       "    </tr>\n",
       "  </tbody>\n",
       "</table>\n",
       "</div>"
      ],
      "text/plain": [
       "   PassengerId  Pclass                                          Name     Sex  \\\n",
       "0          892       3                              Kelly, Mr. James    male   \n",
       "1          893       3              Wilkes, Mrs. James (Ellen Needs)  female   \n",
       "2          894       2                     Myles, Mr. Thomas Francis    male   \n",
       "3          895       3                              Wirz, Mr. Albert    male   \n",
       "4          896       3  Hirvonen, Mrs. Alexander (Helga E Lindqvist)  female   \n",
       "\n",
       "    Age  SibSp  Parch   Ticket     Fare Cabin Embarked  \n",
       "0  34.5      0      0   330911   7.8292   NaN        Q  \n",
       "1  47.0      1      0   363272   7.0000   NaN        S  \n",
       "2  62.0      0      0   240276   9.6875   NaN        Q  \n",
       "3  27.0      0      0   315154   8.6625   NaN        S  \n",
       "4  22.0      1      1  3101298  12.2875   NaN        S  "
      ]
     },
     "execution_count": 3,
     "metadata": {},
     "output_type": "execute_result"
    }
   ],
   "source": [
    "test_X = pd.read_csv(\"../input/titanic/test.csv\")\n",
    "test_X.head()"
   ]
  },
  {
   "cell_type": "markdown",
   "id": "5a873564",
   "metadata": {
    "papermill": {
     "duration": 0.010182,
     "end_time": "2023-04-11T05:30:49.273278",
     "exception": false,
     "start_time": "2023-04-11T05:30:49.263096",
     "status": "completed"
    },
    "tags": []
   },
   "source": [
    "## Data Preprocessing"
   ]
  },
  {
   "cell_type": "markdown",
   "id": "1636f0f8",
   "metadata": {
    "papermill": {
     "duration": 0.010046,
     "end_time": "2023-04-11T05:30:49.293843",
     "exception": false,
     "start_time": "2023-04-11T05:30:49.283797",
     "status": "completed"
    },
    "tags": []
   },
   "source": [
    "#### Data Exploration\n",
    "\n",
    "##### As you can see there are 12 features in train datset, while there are 11 features in test dataset. There is no '***Survived***' column in test dataset."
   ]
  },
  {
   "cell_type": "code",
   "execution_count": 4,
   "id": "1c6792f5",
   "metadata": {
    "execution": {
     "iopub.execute_input": "2023-04-11T05:30:49.316965Z",
     "iopub.status.busy": "2023-04-11T05:30:49.315905Z",
     "iopub.status.idle": "2023-04-11T05:30:49.323471Z",
     "shell.execute_reply": "2023-04-11T05:30:49.321990Z"
    },
    "papermill": {
     "duration": 0.021778,
     "end_time": "2023-04-11T05:30:49.325837",
     "exception": false,
     "start_time": "2023-04-11T05:30:49.304059",
     "status": "completed"
    },
    "tags": []
   },
   "outputs": [
    {
     "name": "stdout",
     "output_type": "stream",
     "text": [
      "Train datset titles: \n",
      " Index(['PassengerId', 'Survived', 'Pclass', 'Name', 'Sex', 'Age', 'SibSp',\n",
      "       'Parch', 'Ticket', 'Fare', 'Cabin', 'Embarked'],\n",
      "      dtype='object')\n",
      "Number of features of train dataset: 12\n",
      "\n",
      "\n",
      "Test datset titles: \n",
      " Index(['PassengerId', 'Pclass', 'Name', 'Sex', 'Age', 'SibSp', 'Parch',\n",
      "       'Ticket', 'Fare', 'Cabin', 'Embarked'],\n",
      "      dtype='object')\n",
      "Number of features of test dataset: 11\n"
     ]
    }
   ],
   "source": [
    "print(f'Train datset titles: \\n {train_X.columns}')\n",
    "print(f'Number of features of train dataset: {len(train_X.columns)}')\n",
    "print('\\n')\n",
    "print(f'Test datset titles: \\n {test_X.columns}')\n",
    "print(f'Number of features of test dataset: {len(test_X.columns)}')"
   ]
  },
  {
   "cell_type": "markdown",
   "id": "80fa69c5",
   "metadata": {
    "papermill": {
     "duration": 0.010586,
     "end_time": "2023-04-11T05:30:49.346767",
     "exception": false,
     "start_time": "2023-04-11T05:30:49.336181",
     "status": "completed"
    },
    "tags": []
   },
   "source": [
    "#### **There are 3 types of data types of features in the dataset:**\n",
    "##### ***Numerical: Age, Fare. Discrete: SibSp, Parch.***\n",
    "##### ***Categorical: Survived, Sex, and Embarked. Ordinal: Pclass.***\n",
    "##### ***Mixed: Cabin***"
   ]
  },
  {
   "cell_type": "code",
   "execution_count": 5,
   "id": "e76f45b4",
   "metadata": {
    "execution": {
     "iopub.execute_input": "2023-04-11T05:30:49.371601Z",
     "iopub.status.busy": "2023-04-11T05:30:49.370926Z",
     "iopub.status.idle": "2023-04-11T05:30:49.387647Z",
     "shell.execute_reply": "2023-04-11T05:30:49.386332Z"
    },
    "papermill": {
     "duration": 0.031706,
     "end_time": "2023-04-11T05:30:49.390072",
     "exception": false,
     "start_time": "2023-04-11T05:30:49.358366",
     "status": "completed"
    },
    "tags": []
   },
   "outputs": [
    {
     "data": {
      "text/html": [
       "<div>\n",
       "<style scoped>\n",
       "    .dataframe tbody tr th:only-of-type {\n",
       "        vertical-align: middle;\n",
       "    }\n",
       "\n",
       "    .dataframe tbody tr th {\n",
       "        vertical-align: top;\n",
       "    }\n",
       "\n",
       "    .dataframe thead th {\n",
       "        text-align: right;\n",
       "    }\n",
       "</style>\n",
       "<table border=\"1\" class=\"dataframe\">\n",
       "  <thead>\n",
       "    <tr style=\"text-align: right;\">\n",
       "      <th></th>\n",
       "      <th>PassengerId</th>\n",
       "      <th>Survived</th>\n",
       "      <th>Pclass</th>\n",
       "      <th>Name</th>\n",
       "      <th>Sex</th>\n",
       "      <th>Age</th>\n",
       "      <th>SibSp</th>\n",
       "      <th>Parch</th>\n",
       "      <th>Ticket</th>\n",
       "      <th>Fare</th>\n",
       "      <th>Cabin</th>\n",
       "      <th>Embarked</th>\n",
       "    </tr>\n",
       "  </thead>\n",
       "  <tbody>\n",
       "    <tr>\n",
       "      <th>0</th>\n",
       "      <td>1</td>\n",
       "      <td>0</td>\n",
       "      <td>3</td>\n",
       "      <td>Braund, Mr. Owen Harris</td>\n",
       "      <td>male</td>\n",
       "      <td>22.0</td>\n",
       "      <td>1</td>\n",
       "      <td>0</td>\n",
       "      <td>A/5 21171</td>\n",
       "      <td>7.2500</td>\n",
       "      <td>NaN</td>\n",
       "      <td>S</td>\n",
       "    </tr>\n",
       "    <tr>\n",
       "      <th>1</th>\n",
       "      <td>2</td>\n",
       "      <td>1</td>\n",
       "      <td>1</td>\n",
       "      <td>Cumings, Mrs. John Bradley (Florence Briggs Th...</td>\n",
       "      <td>female</td>\n",
       "      <td>38.0</td>\n",
       "      <td>1</td>\n",
       "      <td>0</td>\n",
       "      <td>PC 17599</td>\n",
       "      <td>71.2833</td>\n",
       "      <td>C85</td>\n",
       "      <td>C</td>\n",
       "    </tr>\n",
       "    <tr>\n",
       "      <th>2</th>\n",
       "      <td>3</td>\n",
       "      <td>1</td>\n",
       "      <td>3</td>\n",
       "      <td>Heikkinen, Miss. Laina</td>\n",
       "      <td>female</td>\n",
       "      <td>26.0</td>\n",
       "      <td>0</td>\n",
       "      <td>0</td>\n",
       "      <td>STON/O2. 3101282</td>\n",
       "      <td>7.9250</td>\n",
       "      <td>NaN</td>\n",
       "      <td>S</td>\n",
       "    </tr>\n",
       "    <tr>\n",
       "      <th>3</th>\n",
       "      <td>4</td>\n",
       "      <td>1</td>\n",
       "      <td>1</td>\n",
       "      <td>Futrelle, Mrs. Jacques Heath (Lily May Peel)</td>\n",
       "      <td>female</td>\n",
       "      <td>35.0</td>\n",
       "      <td>1</td>\n",
       "      <td>0</td>\n",
       "      <td>113803</td>\n",
       "      <td>53.1000</td>\n",
       "      <td>C123</td>\n",
       "      <td>S</td>\n",
       "    </tr>\n",
       "    <tr>\n",
       "      <th>4</th>\n",
       "      <td>5</td>\n",
       "      <td>0</td>\n",
       "      <td>3</td>\n",
       "      <td>Allen, Mr. William Henry</td>\n",
       "      <td>male</td>\n",
       "      <td>35.0</td>\n",
       "      <td>0</td>\n",
       "      <td>0</td>\n",
       "      <td>373450</td>\n",
       "      <td>8.0500</td>\n",
       "      <td>NaN</td>\n",
       "      <td>S</td>\n",
       "    </tr>\n",
       "  </tbody>\n",
       "</table>\n",
       "</div>"
      ],
      "text/plain": [
       "   PassengerId  Survived  Pclass  \\\n",
       "0            1         0       3   \n",
       "1            2         1       1   \n",
       "2            3         1       3   \n",
       "3            4         1       1   \n",
       "4            5         0       3   \n",
       "\n",
       "                                                Name     Sex   Age  SibSp  \\\n",
       "0                            Braund, Mr. Owen Harris    male  22.0      1   \n",
       "1  Cumings, Mrs. John Bradley (Florence Briggs Th...  female  38.0      1   \n",
       "2                             Heikkinen, Miss. Laina  female  26.0      0   \n",
       "3       Futrelle, Mrs. Jacques Heath (Lily May Peel)  female  35.0      1   \n",
       "4                           Allen, Mr. William Henry    male  35.0      0   \n",
       "\n",
       "   Parch            Ticket     Fare Cabin Embarked  \n",
       "0      0         A/5 21171   7.2500   NaN        S  \n",
       "1      0          PC 17599  71.2833   C85        C  \n",
       "2      0  STON/O2. 3101282   7.9250   NaN        S  \n",
       "3      0            113803  53.1000  C123        S  \n",
       "4      0            373450   8.0500   NaN        S  "
      ]
     },
     "execution_count": 5,
     "metadata": {},
     "output_type": "execute_result"
    }
   ],
   "source": [
    "train_X.head(5)"
   ]
  },
  {
   "cell_type": "markdown",
   "id": "3d55d392",
   "metadata": {
    "papermill": {
     "duration": 0.010624,
     "end_time": "2023-04-11T05:30:49.411506",
     "exception": false,
     "start_time": "2023-04-11T05:30:49.400882",
     "status": "completed"
    },
    "tags": []
   },
   "source": [
    "### By using .info() command we can get some information from the datasets\n",
    "\n",
    "##### As we can see there are some missed values in 'Age', 'Cabin', and 'Embarked' columns of train dataset"
   ]
  },
  {
   "cell_type": "code",
   "execution_count": 6,
   "id": "2129d82b",
   "metadata": {
    "execution": {
     "iopub.execute_input": "2023-04-11T05:30:49.435341Z",
     "iopub.status.busy": "2023-04-11T05:30:49.434664Z",
     "iopub.status.idle": "2023-04-11T05:30:49.462550Z",
     "shell.execute_reply": "2023-04-11T05:30:49.460633Z"
    },
    "papermill": {
     "duration": 0.042956,
     "end_time": "2023-04-11T05:30:49.465289",
     "exception": false,
     "start_time": "2023-04-11T05:30:49.422333",
     "status": "completed"
    },
    "tags": []
   },
   "outputs": [
    {
     "name": "stdout",
     "output_type": "stream",
     "text": [
      "<class 'pandas.core.frame.DataFrame'>\n",
      "RangeIndex: 891 entries, 0 to 890\n",
      "Data columns (total 12 columns):\n",
      " #   Column       Non-Null Count  Dtype  \n",
      "---  ------       --------------  -----  \n",
      " 0   PassengerId  891 non-null    int64  \n",
      " 1   Survived     891 non-null    int64  \n",
      " 2   Pclass       891 non-null    int64  \n",
      " 3   Name         891 non-null    object \n",
      " 4   Sex          891 non-null    object \n",
      " 5   Age          714 non-null    float64\n",
      " 6   SibSp        891 non-null    int64  \n",
      " 7   Parch        891 non-null    int64  \n",
      " 8   Ticket       891 non-null    object \n",
      " 9   Fare         891 non-null    float64\n",
      " 10  Cabin        204 non-null    object \n",
      " 11  Embarked     889 non-null    object \n",
      "dtypes: float64(2), int64(5), object(5)\n",
      "memory usage: 83.7+ KB\n"
     ]
    }
   ],
   "source": [
    "train_X.info()"
   ]
  },
  {
   "cell_type": "markdown",
   "id": "b9f8b75b",
   "metadata": {
    "papermill": {
     "duration": 0.010615,
     "end_time": "2023-04-11T05:30:49.487153",
     "exception": false,
     "start_time": "2023-04-11T05:30:49.476538",
     "status": "completed"
    },
    "tags": []
   },
   "source": [
    "##### We can visualize the thain dataset as follows:"
   ]
  },
  {
   "cell_type": "code",
   "execution_count": 7,
   "id": "e137d198",
   "metadata": {
    "execution": {
     "iopub.execute_input": "2023-04-11T05:30:49.512009Z",
     "iopub.status.busy": "2023-04-11T05:30:49.510583Z",
     "iopub.status.idle": "2023-04-11T05:30:51.810315Z",
     "shell.execute_reply": "2023-04-11T05:30:51.808974Z"
    },
    "papermill": {
     "duration": 2.315065,
     "end_time": "2023-04-11T05:30:51.813185",
     "exception": false,
     "start_time": "2023-04-11T05:30:49.498120",
     "status": "completed"
    },
    "tags": []
   },
   "outputs": [
    {
     "data": {
      "text/plain": [
       "<AxesSubplot:>"
      ]
     },
     "execution_count": 7,
     "metadata": {},
     "output_type": "execute_result"
    },
    {
     "data": {
      "image/png": "[encoded data removed]",
      "text/plain": [
       "<Figure size 1600x500 with 3 Axes>"
      ]
     },
     "metadata": {},
     "output_type": "display_data"
    }
   ],
   "source": [
    "import matplotlib.pyplot as plt\n",
    "import missingno as mso\n",
    "\n",
    "plt.figure(figsize=(16,5))\n",
    "ax_train = plt.subplot(1,2,2)\n",
    "mso.bar(train_X,ax=ax_train,fontsize = 12)"
   ]
  },
  {
   "cell_type": "code",
   "execution_count": 8,
   "id": "5506ef9f",
   "metadata": {
    "execution": {
     "iopub.execute_input": "2023-04-11T05:30:51.839100Z",
     "iopub.status.busy": "2023-04-11T05:30:51.837895Z",
     "iopub.status.idle": "2023-04-11T05:30:51.853488Z",
     "shell.execute_reply": "2023-04-11T05:30:51.851905Z"
    },
    "papermill": {
     "duration": 0.031112,
     "end_time": "2023-04-11T05:30:51.856081",
     "exception": false,
     "start_time": "2023-04-11T05:30:51.824969",
     "status": "completed"
    },
    "tags": []
   },
   "outputs": [
    {
     "name": "stdout",
     "output_type": "stream",
     "text": [
      "<class 'pandas.core.frame.DataFrame'>\n",
      "RangeIndex: 418 entries, 0 to 417\n",
      "Data columns (total 11 columns):\n",
      " #   Column       Non-Null Count  Dtype  \n",
      "---  ------       --------------  -----  \n",
      " 0   PassengerId  418 non-null    int64  \n",
      " 1   Pclass       418 non-null    int64  \n",
      " 2   Name         418 non-null    object \n",
      " 3   Sex          418 non-null    object \n",
      " 4   Age          332 non-null    float64\n",
      " 5   SibSp        418 non-null    int64  \n",
      " 6   Parch        418 non-null    int64  \n",
      " 7   Ticket       418 non-null    object \n",
      " 8   Fare         417 non-null    float64\n",
      " 9   Cabin        91 non-null     object \n",
      " 10  Embarked     418 non-null    object \n",
      "dtypes: float64(2), int64(4), object(5)\n",
      "memory usage: 36.0+ KB\n"
     ]
    }
   ],
   "source": [
    "test_X.info()"
   ]
  },
  {
   "cell_type": "markdown",
   "id": "b7495bfb",
   "metadata": {
    "papermill": {
     "duration": 0.011289,
     "end_time": "2023-04-11T05:30:51.879145",
     "exception": false,
     "start_time": "2023-04-11T05:30:51.867856",
     "status": "completed"
    },
    "tags": []
   },
   "source": [
    "##### As we can see there are some missed values in 'Age', 'Cabin', and 'Fare' columns of test dataset\n",
    "##### We can visualize the thain dataset as follows:"
   ]
  },
  {
   "cell_type": "code",
   "execution_count": 9,
   "id": "f8852253",
   "metadata": {
    "execution": {
     "iopub.execute_input": "2023-04-11T05:30:51.905073Z",
     "iopub.status.busy": "2023-04-11T05:30:51.904649Z",
     "iopub.status.idle": "2023-04-11T05:30:52.873800Z",
     "shell.execute_reply": "2023-04-11T05:30:52.872178Z"
    },
    "papermill": {
     "duration": 0.987025,
     "end_time": "2023-04-11T05:30:52.878135",
     "exception": false,
     "start_time": "2023-04-11T05:30:51.891110",
     "status": "completed"
    },
    "tags": []
   },
   "outputs": [
    {
     "data": {
      "text/plain": [
       "<AxesSubplot:>"
      ]
     },
     "execution_count": 9,
     "metadata": {},
     "output_type": "execute_result"
    },
    {
     "data": {
      "image/png": "[encoded data removed]",
      "text/plain": [
       "<Figure size 1600x500 with 3 Axes>"
      ]
     },
     "metadata": {},
     "output_type": "display_data"
    }
   ],
   "source": [
    "plt.figure(figsize=(16,5))\n",
    "ax_train = plt.subplot(1,2,2)\n",
    "mso.bar(test_X,ax=ax_train,fontsize = 12)"
   ]
  },
  {
   "cell_type": "markdown",
   "id": "7be49cb9",
   "metadata": {
    "papermill": {
     "duration": 0.012256,
     "end_time": "2023-04-11T05:30:52.905503",
     "exception": false,
     "start_time": "2023-04-11T05:30:52.893247",
     "status": "completed"
    },
    "tags": []
   },
   "source": [
    "##### Now, we will fill the mised values in the numerical features"
   ]
  },
  {
   "cell_type": "code",
   "execution_count": 10,
   "id": "a9282fc8",
   "metadata": {
    "execution": {
     "iopub.execute_input": "2023-04-11T05:30:52.932642Z",
     "iopub.status.busy": "2023-04-11T05:30:52.931883Z",
     "iopub.status.idle": "2023-04-11T05:30:52.939284Z",
     "shell.execute_reply": "2023-04-11T05:30:52.938448Z"
    },
    "papermill": {
     "duration": 0.023413,
     "end_time": "2023-04-11T05:30:52.941510",
     "exception": false,
     "start_time": "2023-04-11T05:30:52.918097",
     "status": "completed"
    },
    "tags": []
   },
   "outputs": [],
   "source": [
    "# Replacing missing values\n",
    "train_X['Age'] = train_X['Age'].fillna(train_X['Age'].mean())\n",
    "test_X['Age'] = test_X['Age'].fillna(test_X['Age'].mean())\n",
    "test_X['Fare'] = test_X['Fare'].fillna(test_X['Fare'].mean())"
   ]
  },
  {
   "cell_type": "markdown",
   "id": "55bcfabc",
   "metadata": {
    "papermill": {
     "duration": 0.012394,
     "end_time": "2023-04-11T05:30:52.966374",
     "exception": false,
     "start_time": "2023-04-11T05:30:52.953980",
     "status": "completed"
    },
    "tags": []
   },
   "source": [
    "## Feature Engineering\n",
    "#### Now, we convert categorical data to numetical data using dandas library (get_dummies command)"
   ]
  },
  {
   "cell_type": "code",
   "execution_count": 11,
   "id": "3c1d432e",
   "metadata": {
    "execution": {
     "iopub.execute_input": "2023-04-11T05:30:52.993748Z",
     "iopub.status.busy": "2023-04-11T05:30:52.993323Z",
     "iopub.status.idle": "2023-04-11T05:30:53.009435Z",
     "shell.execute_reply": "2023-04-11T05:30:53.008354Z"
    },
    "papermill": {
     "duration": 0.032872,
     "end_time": "2023-04-11T05:30:53.011863",
     "exception": false,
     "start_time": "2023-04-11T05:30:52.978991",
     "status": "completed"
    },
    "tags": []
   },
   "outputs": [
    {
     "data": {
      "text/html": [
       "<div>\n",
       "<style scoped>\n",
       "    .dataframe tbody tr th:only-of-type {\n",
       "        vertical-align: middle;\n",
       "    }\n",
       "\n",
       "    .dataframe tbody tr th {\n",
       "        vertical-align: top;\n",
       "    }\n",
       "\n",
       "    .dataframe thead th {\n",
       "        text-align: right;\n",
       "    }\n",
       "</style>\n",
       "<table border=\"1\" class=\"dataframe\">\n",
       "  <thead>\n",
       "    <tr style=\"text-align: right;\">\n",
       "      <th></th>\n",
       "      <th>PassengerId</th>\n",
       "      <th>Survived</th>\n",
       "      <th>Pclass</th>\n",
       "      <th>Name</th>\n",
       "      <th>Sex</th>\n",
       "      <th>Age</th>\n",
       "      <th>SibSp</th>\n",
       "      <th>Parch</th>\n",
       "      <th>Ticket</th>\n",
       "      <th>Fare</th>\n",
       "      <th>Cabin</th>\n",
       "      <th>Embarked</th>\n",
       "    </tr>\n",
       "  </thead>\n",
       "  <tbody>\n",
       "    <tr>\n",
       "      <th>0</th>\n",
       "      <td>1</td>\n",
       "      <td>0</td>\n",
       "      <td>3</td>\n",
       "      <td>Braund, Mr. Owen Harris</td>\n",
       "      <td>male</td>\n",
       "      <td>22.0</td>\n",
       "      <td>1</td>\n",
       "      <td>0</td>\n",
       "      <td>A/5 21171</td>\n",
       "      <td>7.2500</td>\n",
       "      <td>NaN</td>\n",
       "      <td>S</td>\n",
       "    </tr>\n",
       "    <tr>\n",
       "      <th>1</th>\n",
       "      <td>2</td>\n",
       "      <td>1</td>\n",
       "      <td>1</td>\n",
       "      <td>Cumings, Mrs. John Bradley (Florence Briggs Th...</td>\n",
       "      <td>female</td>\n",
       "      <td>38.0</td>\n",
       "      <td>1</td>\n",
       "      <td>0</td>\n",
       "      <td>PC 17599</td>\n",
       "      <td>71.2833</td>\n",
       "      <td>C85</td>\n",
       "      <td>C</td>\n",
       "    </tr>\n",
       "    <tr>\n",
       "      <th>2</th>\n",
       "      <td>3</td>\n",
       "      <td>1</td>\n",
       "      <td>3</td>\n",
       "      <td>Heikkinen, Miss. Laina</td>\n",
       "      <td>female</td>\n",
       "      <td>26.0</td>\n",
       "      <td>0</td>\n",
       "      <td>0</td>\n",
       "      <td>STON/O2. 3101282</td>\n",
       "      <td>7.9250</td>\n",
       "      <td>NaN</td>\n",
       "      <td>S</td>\n",
       "    </tr>\n",
       "  </tbody>\n",
       "</table>\n",
       "</div>"
      ],
      "text/plain": [
       "   PassengerId  Survived  Pclass  \\\n",
       "0            1         0       3   \n",
       "1            2         1       1   \n",
       "2            3         1       3   \n",
       "\n",
       "                                                Name     Sex   Age  SibSp  \\\n",
       "0                            Braund, Mr. Owen Harris    male  22.0      1   \n",
       "1  Cumings, Mrs. John Bradley (Florence Briggs Th...  female  38.0      1   \n",
       "2                             Heikkinen, Miss. Laina  female  26.0      0   \n",
       "\n",
       "   Parch            Ticket     Fare Cabin Embarked  \n",
       "0      0         A/5 21171   7.2500   NaN        S  \n",
       "1      0          PC 17599  71.2833   C85        C  \n",
       "2      0  STON/O2. 3101282   7.9250   NaN        S  "
      ]
     },
     "execution_count": 11,
     "metadata": {},
     "output_type": "execute_result"
    }
   ],
   "source": [
    "train_X.head(3)"
   ]
  },
  {
   "cell_type": "code",
   "execution_count": 12,
   "id": "6980a610",
   "metadata": {
    "execution": {
     "iopub.execute_input": "2023-04-11T05:30:53.038783Z",
     "iopub.status.busy": "2023-04-11T05:30:53.038123Z",
     "iopub.status.idle": "2023-04-11T05:30:53.053806Z",
     "shell.execute_reply": "2023-04-11T05:30:53.052671Z"
    },
    "papermill": {
     "duration": 0.031805,
     "end_time": "2023-04-11T05:30:53.056133",
     "exception": false,
     "start_time": "2023-04-11T05:30:53.024328",
     "status": "completed"
    },
    "tags": []
   },
   "outputs": [
    {
     "data": {
      "text/html": [
       "<div>\n",
       "<style scoped>\n",
       "    .dataframe tbody tr th:only-of-type {\n",
       "        vertical-align: middle;\n",
       "    }\n",
       "\n",
       "    .dataframe tbody tr th {\n",
       "        vertical-align: top;\n",
       "    }\n",
       "\n",
       "    .dataframe thead th {\n",
       "        text-align: right;\n",
       "    }\n",
       "</style>\n",
       "<table border=\"1\" class=\"dataframe\">\n",
       "  <thead>\n",
       "    <tr style=\"text-align: right;\">\n",
       "      <th></th>\n",
       "      <th>PassengerId</th>\n",
       "      <th>Pclass</th>\n",
       "      <th>Name</th>\n",
       "      <th>Sex</th>\n",
       "      <th>Age</th>\n",
       "      <th>SibSp</th>\n",
       "      <th>Parch</th>\n",
       "      <th>Ticket</th>\n",
       "      <th>Fare</th>\n",
       "      <th>Cabin</th>\n",
       "      <th>Embarked</th>\n",
       "    </tr>\n",
       "  </thead>\n",
       "  <tbody>\n",
       "    <tr>\n",
       "      <th>0</th>\n",
       "      <td>892</td>\n",
       "      <td>3</td>\n",
       "      <td>Kelly, Mr. James</td>\n",
       "      <td>male</td>\n",
       "      <td>34.5</td>\n",
       "      <td>0</td>\n",
       "      <td>0</td>\n",
       "      <td>330911</td>\n",
       "      <td>7.8292</td>\n",
       "      <td>NaN</td>\n",
       "      <td>Q</td>\n",
       "    </tr>\n",
       "    <tr>\n",
       "      <th>1</th>\n",
       "      <td>893</td>\n",
       "      <td>3</td>\n",
       "      <td>Wilkes, Mrs. James (Ellen Needs)</td>\n",
       "      <td>female</td>\n",
       "      <td>47.0</td>\n",
       "      <td>1</td>\n",
       "      <td>0</td>\n",
       "      <td>363272</td>\n",
       "      <td>7.0000</td>\n",
       "      <td>NaN</td>\n",
       "      <td>S</td>\n",
       "    </tr>\n",
       "    <tr>\n",
       "      <th>2</th>\n",
       "      <td>894</td>\n",
       "      <td>2</td>\n",
       "      <td>Myles, Mr. Thomas Francis</td>\n",
       "      <td>male</td>\n",
       "      <td>62.0</td>\n",
       "      <td>0</td>\n",
       "      <td>0</td>\n",
       "      <td>240276</td>\n",
       "      <td>9.6875</td>\n",
       "      <td>NaN</td>\n",
       "      <td>Q</td>\n",
       "    </tr>\n",
       "  </tbody>\n",
       "</table>\n",
       "</div>"
      ],
      "text/plain": [
       "   PassengerId  Pclass                              Name     Sex   Age  SibSp  \\\n",
       "0          892       3                  Kelly, Mr. James    male  34.5      0   \n",
       "1          893       3  Wilkes, Mrs. James (Ellen Needs)  female  47.0      1   \n",
       "2          894       2         Myles, Mr. Thomas Francis    male  62.0      0   \n",
       "\n",
       "   Parch  Ticket    Fare Cabin Embarked  \n",
       "0      0  330911  7.8292   NaN        Q  \n",
       "1      0  363272  7.0000   NaN        S  \n",
       "2      0  240276  9.6875   NaN        Q  "
      ]
     },
     "execution_count": 12,
     "metadata": {},
     "output_type": "execute_result"
    }
   ],
   "source": [
    "test_X.head(3)"
   ]
  },
  {
   "cell_type": "code",
   "execution_count": 13,
   "id": "9af7dc81",
   "metadata": {
    "execution": {
     "iopub.execute_input": "2023-04-11T05:30:53.084492Z",
     "iopub.status.busy": "2023-04-11T05:30:53.083725Z",
     "iopub.status.idle": "2023-04-11T05:30:53.144194Z",
     "shell.execute_reply": "2023-04-11T05:30:53.142874Z"
    },
    "papermill": {
     "duration": 0.077888,
     "end_time": "2023-04-11T05:30:53.146808",
     "exception": false,
     "start_time": "2023-04-11T05:30:53.068920",
     "status": "completed"
    },
    "tags": []
   },
   "outputs": [
    {
     "data": {
      "text/html": [
       "<div>\n",
       "<style scoped>\n",
       "    .dataframe tbody tr th:only-of-type {\n",
       "        vertical-align: middle;\n",
       "    }\n",
       "\n",
       "    .dataframe tbody tr th {\n",
       "        vertical-align: top;\n",
       "    }\n",
       "\n",
       "    .dataframe thead th {\n",
       "        text-align: right;\n",
       "    }\n",
       "</style>\n",
       "<table border=\"1\" class=\"dataframe\">\n",
       "  <thead>\n",
       "    <tr style=\"text-align: right;\">\n",
       "      <th></th>\n",
       "      <th>PassengerId</th>\n",
       "      <th>Survived</th>\n",
       "      <th>Age</th>\n",
       "      <th>SibSp</th>\n",
       "      <th>Parch</th>\n",
       "      <th>Fare</th>\n",
       "      <th>Sex_female</th>\n",
       "      <th>Sex_male</th>\n",
       "      <th>Embarked_C</th>\n",
       "      <th>Embarked_Q</th>\n",
       "      <th>Embarked_S</th>\n",
       "      <th>Pclass_1</th>\n",
       "      <th>Pclass_2</th>\n",
       "      <th>Pclass_3</th>\n",
       "    </tr>\n",
       "  </thead>\n",
       "  <tbody>\n",
       "    <tr>\n",
       "      <th>count</th>\n",
       "      <td>891.000000</td>\n",
       "      <td>891.000000</td>\n",
       "      <td>891.000000</td>\n",
       "      <td>891.000000</td>\n",
       "      <td>891.000000</td>\n",
       "      <td>891.000000</td>\n",
       "      <td>891.000000</td>\n",
       "      <td>891.000000</td>\n",
       "      <td>891.000000</td>\n",
       "      <td>891.000000</td>\n",
       "      <td>891.000000</td>\n",
       "      <td>891.000000</td>\n",
       "      <td>891.000000</td>\n",
       "      <td>891.000000</td>\n",
       "    </tr>\n",
       "    <tr>\n",
       "      <th>mean</th>\n",
       "      <td>446.000000</td>\n",
       "      <td>0.383838</td>\n",
       "      <td>29.699118</td>\n",
       "      <td>0.523008</td>\n",
       "      <td>0.381594</td>\n",
       "      <td>32.204208</td>\n",
       "      <td>0.352413</td>\n",
       "      <td>0.647587</td>\n",
       "      <td>0.188552</td>\n",
       "      <td>0.086420</td>\n",
       "      <td>0.722783</td>\n",
       "      <td>0.242424</td>\n",
       "      <td>0.206510</td>\n",
       "      <td>0.551066</td>\n",
       "    </tr>\n",
       "    <tr>\n",
       "      <th>std</th>\n",
       "      <td>257.353842</td>\n",
       "      <td>0.486592</td>\n",
       "      <td>13.002015</td>\n",
       "      <td>1.102743</td>\n",
       "      <td>0.806057</td>\n",
       "      <td>49.693429</td>\n",
       "      <td>0.477990</td>\n",
       "      <td>0.477990</td>\n",
       "      <td>0.391372</td>\n",
       "      <td>0.281141</td>\n",
       "      <td>0.447876</td>\n",
       "      <td>0.428790</td>\n",
       "      <td>0.405028</td>\n",
       "      <td>0.497665</td>\n",
       "    </tr>\n",
       "    <tr>\n",
       "      <th>min</th>\n",
       "      <td>1.000000</td>\n",
       "      <td>0.000000</td>\n",
       "      <td>0.420000</td>\n",
       "      <td>0.000000</td>\n",
       "      <td>0.000000</td>\n",
       "      <td>0.000000</td>\n",
       "      <td>0.000000</td>\n",
       "      <td>0.000000</td>\n",
       "      <td>0.000000</td>\n",
       "      <td>0.000000</td>\n",
       "      <td>0.000000</td>\n",
       "      <td>0.000000</td>\n",
       "      <td>0.000000</td>\n",
       "      <td>0.000000</td>\n",
       "    </tr>\n",
       "    <tr>\n",
       "      <th>25%</th>\n",
       "      <td>223.500000</td>\n",
       "      <td>0.000000</td>\n",
       "      <td>22.000000</td>\n",
       "      <td>0.000000</td>\n",
       "      <td>0.000000</td>\n",
       "      <td>7.910400</td>\n",
       "      <td>0.000000</td>\n",
       "      <td>0.000000</td>\n",
       "      <td>0.000000</td>\n",
       "      <td>0.000000</td>\n",
       "      <td>0.000000</td>\n",
       "      <td>0.000000</td>\n",
       "      <td>0.000000</td>\n",
       "      <td>0.000000</td>\n",
       "    </tr>\n",
       "    <tr>\n",
       "      <th>50%</th>\n",
       "      <td>446.000000</td>\n",
       "      <td>0.000000</td>\n",
       "      <td>29.699118</td>\n",
       "      <td>0.000000</td>\n",
       "      <td>0.000000</td>\n",
       "      <td>14.454200</td>\n",
       "      <td>0.000000</td>\n",
       "      <td>1.000000</td>\n",
       "      <td>0.000000</td>\n",
       "      <td>0.000000</td>\n",
       "      <td>1.000000</td>\n",
       "      <td>0.000000</td>\n",
       "      <td>0.000000</td>\n",
       "      <td>1.000000</td>\n",
       "    </tr>\n",
       "    <tr>\n",
       "      <th>75%</th>\n",
       "      <td>668.500000</td>\n",
       "      <td>1.000000</td>\n",
       "      <td>35.000000</td>\n",
       "      <td>1.000000</td>\n",
       "      <td>0.000000</td>\n",
       "      <td>31.000000</td>\n",
       "      <td>1.000000</td>\n",
       "      <td>1.000000</td>\n",
       "      <td>0.000000</td>\n",
       "      <td>0.000000</td>\n",
       "      <td>1.000000</td>\n",
       "      <td>0.000000</td>\n",
       "      <td>0.000000</td>\n",
       "      <td>1.000000</td>\n",
       "    </tr>\n",
       "    <tr>\n",
       "      <th>max</th>\n",
       "      <td>891.000000</td>\n",
       "      <td>1.000000</td>\n",
       "      <td>80.000000</td>\n",
       "      <td>8.000000</td>\n",
       "      <td>6.000000</td>\n",
       "      <td>512.329200</td>\n",
       "      <td>1.000000</td>\n",
       "      <td>1.000000</td>\n",
       "      <td>1.000000</td>\n",
       "      <td>1.000000</td>\n",
       "      <td>1.000000</td>\n",
       "      <td>1.000000</td>\n",
       "      <td>1.000000</td>\n",
       "      <td>1.000000</td>\n",
       "    </tr>\n",
       "  </tbody>\n",
       "</table>\n",
       "</div>"
      ],
      "text/plain": [
       "       PassengerId    Survived         Age       SibSp       Parch  \\\n",
       "count   891.000000  891.000000  891.000000  891.000000  891.000000   \n",
       "mean    446.000000    0.383838   29.699118    0.523008    0.381594   \n",
       "std     257.353842    0.486592   13.002015    1.102743    0.806057   \n",
       "min       1.000000    0.000000    0.420000    0.000000    0.000000   \n",
       "25%     223.500000    0.000000   22.000000    0.000000    0.000000   \n",
       "50%     446.000000    0.000000   29.699118    0.000000    0.000000   \n",
       "75%     668.500000    1.000000   35.000000    1.000000    0.000000   \n",
       "max     891.000000    1.000000   80.000000    8.000000    6.000000   \n",
       "\n",
       "             Fare  Sex_female    Sex_male  Embarked_C  Embarked_Q  Embarked_S  \\\n",
       "count  891.000000  891.000000  891.000000  891.000000  891.000000  891.000000   \n",
       "mean    32.204208    0.352413    0.647587    0.188552    0.086420    0.722783   \n",
       "std     49.693429    0.477990    0.477990    0.391372    0.281141    0.447876   \n",
       "min      0.000000    0.000000    0.000000    0.000000    0.000000    0.000000   \n",
       "25%      7.910400    0.000000    0.000000    0.000000    0.000000    0.000000   \n",
       "50%     14.454200    0.000000    1.000000    0.000000    0.000000    1.000000   \n",
       "75%     31.000000    1.000000    1.000000    0.000000    0.000000    1.000000   \n",
       "max    512.329200    1.000000    1.000000    1.000000    1.000000    1.000000   \n",
       "\n",
       "         Pclass_1    Pclass_2    Pclass_3  \n",
       "count  891.000000  891.000000  891.000000  \n",
       "mean     0.242424    0.206510    0.551066  \n",
       "std      0.428790    0.405028    0.497665  \n",
       "min      0.000000    0.000000    0.000000  \n",
       "25%      0.000000    0.000000    0.000000  \n",
       "50%      0.000000    0.000000    1.000000  \n",
       "75%      0.000000    0.000000    1.000000  \n",
       "max      1.000000    1.000000    1.000000  "
      ]
     },
     "execution_count": 13,
     "metadata": {},
     "output_type": "execute_result"
    }
   ],
   "source": [
    "train_X = pd.get_dummies(train_X, columns = ['Sex', 'Embarked', 'Pclass'])\n",
    "train_X.describe()"
   ]
  },
  {
   "cell_type": "code",
   "execution_count": 14,
   "id": "971f8252",
   "metadata": {
    "execution": {
     "iopub.execute_input": "2023-04-11T05:30:53.175491Z",
     "iopub.status.busy": "2023-04-11T05:30:53.174214Z",
     "iopub.status.idle": "2023-04-11T05:30:53.227336Z",
     "shell.execute_reply": "2023-04-11T05:30:53.225918Z"
    },
    "papermill": {
     "duration": 0.070009,
     "end_time": "2023-04-11T05:30:53.229800",
     "exception": false,
     "start_time": "2023-04-11T05:30:53.159791",
     "status": "completed"
    },
    "tags": []
   },
   "outputs": [
    {
     "data": {
      "text/html": [
       "<div>\n",
       "<style scoped>\n",
       "    .dataframe tbody tr th:only-of-type {\n",
       "        vertical-align: middle;\n",
       "    }\n",
       "\n",
       "    .dataframe tbody tr th {\n",
       "        vertical-align: top;\n",
       "    }\n",
       "\n",
       "    .dataframe thead th {\n",
       "        text-align: right;\n",
       "    }\n",
       "</style>\n",
       "<table border=\"1\" class=\"dataframe\">\n",
       "  <thead>\n",
       "    <tr style=\"text-align: right;\">\n",
       "      <th></th>\n",
       "      <th>PassengerId</th>\n",
       "      <th>Age</th>\n",
       "      <th>SibSp</th>\n",
       "      <th>Parch</th>\n",
       "      <th>Fare</th>\n",
       "      <th>Sex_female</th>\n",
       "      <th>Sex_male</th>\n",
       "      <th>Embarked_C</th>\n",
       "      <th>Embarked_Q</th>\n",
       "      <th>Embarked_S</th>\n",
       "      <th>Pclass_1</th>\n",
       "      <th>Pclass_2</th>\n",
       "      <th>Pclass_3</th>\n",
       "    </tr>\n",
       "  </thead>\n",
       "  <tbody>\n",
       "    <tr>\n",
       "      <th>count</th>\n",
       "      <td>418.000000</td>\n",
       "      <td>418.000000</td>\n",
       "      <td>418.000000</td>\n",
       "      <td>418.000000</td>\n",
       "      <td>418.000000</td>\n",
       "      <td>418.000000</td>\n",
       "      <td>418.000000</td>\n",
       "      <td>418.000000</td>\n",
       "      <td>418.000000</td>\n",
       "      <td>418.000000</td>\n",
       "      <td>418.000000</td>\n",
       "      <td>418.000000</td>\n",
       "      <td>418.000000</td>\n",
       "    </tr>\n",
       "    <tr>\n",
       "      <th>mean</th>\n",
       "      <td>1100.500000</td>\n",
       "      <td>30.272590</td>\n",
       "      <td>0.447368</td>\n",
       "      <td>0.392344</td>\n",
       "      <td>35.627188</td>\n",
       "      <td>0.363636</td>\n",
       "      <td>0.636364</td>\n",
       "      <td>0.244019</td>\n",
       "      <td>0.110048</td>\n",
       "      <td>0.645933</td>\n",
       "      <td>0.255981</td>\n",
       "      <td>0.222488</td>\n",
       "      <td>0.521531</td>\n",
       "    </tr>\n",
       "    <tr>\n",
       "      <th>std</th>\n",
       "      <td>120.810458</td>\n",
       "      <td>12.634534</td>\n",
       "      <td>0.896760</td>\n",
       "      <td>0.981429</td>\n",
       "      <td>55.840500</td>\n",
       "      <td>0.481622</td>\n",
       "      <td>0.481622</td>\n",
       "      <td>0.430019</td>\n",
       "      <td>0.313324</td>\n",
       "      <td>0.478803</td>\n",
       "      <td>0.436934</td>\n",
       "      <td>0.416416</td>\n",
       "      <td>0.500135</td>\n",
       "    </tr>\n",
       "    <tr>\n",
       "      <th>min</th>\n",
       "      <td>892.000000</td>\n",
       "      <td>0.170000</td>\n",
       "      <td>0.000000</td>\n",
       "      <td>0.000000</td>\n",
       "      <td>0.000000</td>\n",
       "      <td>0.000000</td>\n",
       "      <td>0.000000</td>\n",
       "      <td>0.000000</td>\n",
       "      <td>0.000000</td>\n",
       "      <td>0.000000</td>\n",
       "      <td>0.000000</td>\n",
       "      <td>0.000000</td>\n",
       "      <td>0.000000</td>\n",
       "    </tr>\n",
       "    <tr>\n",
       "      <th>25%</th>\n",
       "      <td>996.250000</td>\n",
       "      <td>23.000000</td>\n",
       "      <td>0.000000</td>\n",
       "      <td>0.000000</td>\n",
       "      <td>7.895800</td>\n",
       "      <td>0.000000</td>\n",
       "      <td>0.000000</td>\n",
       "      <td>0.000000</td>\n",
       "      <td>0.000000</td>\n",
       "      <td>0.000000</td>\n",
       "      <td>0.000000</td>\n",
       "      <td>0.000000</td>\n",
       "      <td>0.000000</td>\n",
       "    </tr>\n",
       "    <tr>\n",
       "      <th>50%</th>\n",
       "      <td>1100.500000</td>\n",
       "      <td>30.272590</td>\n",
       "      <td>0.000000</td>\n",
       "      <td>0.000000</td>\n",
       "      <td>14.454200</td>\n",
       "      <td>0.000000</td>\n",
       "      <td>1.000000</td>\n",
       "      <td>0.000000</td>\n",
       "      <td>0.000000</td>\n",
       "      <td>1.000000</td>\n",
       "      <td>0.000000</td>\n",
       "      <td>0.000000</td>\n",
       "      <td>1.000000</td>\n",
       "    </tr>\n",
       "    <tr>\n",
       "      <th>75%</th>\n",
       "      <td>1204.750000</td>\n",
       "      <td>35.750000</td>\n",
       "      <td>1.000000</td>\n",
       "      <td>0.000000</td>\n",
       "      <td>31.500000</td>\n",
       "      <td>1.000000</td>\n",
       "      <td>1.000000</td>\n",
       "      <td>0.000000</td>\n",
       "      <td>0.000000</td>\n",
       "      <td>1.000000</td>\n",
       "      <td>1.000000</td>\n",
       "      <td>0.000000</td>\n",
       "      <td>1.000000</td>\n",
       "    </tr>\n",
       "    <tr>\n",
       "      <th>max</th>\n",
       "      <td>1309.000000</td>\n",
       "      <td>76.000000</td>\n",
       "      <td>8.000000</td>\n",
       "      <td>9.000000</td>\n",
       "      <td>512.329200</td>\n",
       "      <td>1.000000</td>\n",
       "      <td>1.000000</td>\n",
       "      <td>1.000000</td>\n",
       "      <td>1.000000</td>\n",
       "      <td>1.000000</td>\n",
       "      <td>1.000000</td>\n",
       "      <td>1.000000</td>\n",
       "      <td>1.000000</td>\n",
       "    </tr>\n",
       "  </tbody>\n",
       "</table>\n",
       "</div>"
      ],
      "text/plain": [
       "       PassengerId         Age       SibSp       Parch        Fare  \\\n",
       "count   418.000000  418.000000  418.000000  418.000000  418.000000   \n",
       "mean   1100.500000   30.272590    0.447368    0.392344   35.627188   \n",
       "std     120.810458   12.634534    0.896760    0.981429   55.840500   \n",
       "min     892.000000    0.170000    0.000000    0.000000    0.000000   \n",
       "25%     996.250000   23.000000    0.000000    0.000000    7.895800   \n",
       "50%    1100.500000   30.272590    0.000000    0.000000   14.454200   \n",
       "75%    1204.750000   35.750000    1.000000    0.000000   31.500000   \n",
       "max    1309.000000   76.000000    8.000000    9.000000  512.329200   \n",
       "\n",
       "       Sex_female    Sex_male  Embarked_C  Embarked_Q  Embarked_S    Pclass_1  \\\n",
       "count  418.000000  418.000000  418.000000  418.000000  418.000000  418.000000   \n",
       "mean     0.363636    0.636364    0.244019    0.110048    0.645933    0.255981   \n",
       "std      0.481622    0.481622    0.430019    0.313324    0.478803    0.436934   \n",
       "min      0.000000    0.000000    0.000000    0.000000    0.000000    0.000000   \n",
       "25%      0.000000    0.000000    0.000000    0.000000    0.000000    0.000000   \n",
       "50%      0.000000    1.000000    0.000000    0.000000    1.000000    0.000000   \n",
       "75%      1.000000    1.000000    0.000000    0.000000    1.000000    1.000000   \n",
       "max      1.000000    1.000000    1.000000    1.000000    1.000000    1.000000   \n",
       "\n",
       "         Pclass_2    Pclass_3  \n",
       "count  418.000000  418.000000  \n",
       "mean     0.222488    0.521531  \n",
       "std      0.416416    0.500135  \n",
       "min      0.000000    0.000000  \n",
       "25%      0.000000    0.000000  \n",
       "50%      0.000000    1.000000  \n",
       "75%      0.000000    1.000000  \n",
       "max      1.000000    1.000000  "
      ]
     },
     "execution_count": 14,
     "metadata": {},
     "output_type": "execute_result"
    }
   ],
   "source": [
    "test_X = pd.get_dummies(test_X, columns = ['Sex', 'Embarked', 'Pclass'])\n",
    "test_X.describe()"
   ]
  },
  {
   "cell_type": "code",
   "execution_count": 15,
   "id": "2007bfc1",
   "metadata": {
    "execution": {
     "iopub.execute_input": "2023-04-11T05:30:53.258984Z",
     "iopub.status.busy": "2023-04-11T05:30:53.258561Z",
     "iopub.status.idle": "2023-04-11T05:30:53.265919Z",
     "shell.execute_reply": "2023-04-11T05:30:53.264459Z"
    },
    "papermill": {
     "duration": 0.025321,
     "end_time": "2023-04-11T05:30:53.268540",
     "exception": false,
     "start_time": "2023-04-11T05:30:53.243219",
     "status": "completed"
    },
    "tags": []
   },
   "outputs": [],
   "source": [
    "# Dropping data having unique valus like nbame,ticket number etc\n",
    "fin_train_X = train_X.drop(['PassengerId','Cabin','Name','Ticket'], axis = 1)\n",
    "fin_test_X = test_X.drop(['PassengerId','Cabin','Name','Ticket'], axis = 1)"
   ]
  },
  {
   "cell_type": "code",
   "execution_count": 16,
   "id": "6b2a49e2",
   "metadata": {
    "execution": {
     "iopub.execute_input": "2023-04-11T05:30:53.297189Z",
     "iopub.status.busy": "2023-04-11T05:30:53.296762Z",
     "iopub.status.idle": "2023-04-11T05:30:54.339877Z",
     "shell.execute_reply": "2023-04-11T05:30:54.338026Z"
    },
    "papermill": {
     "duration": 1.061001,
     "end_time": "2023-04-11T05:30:54.342861",
     "exception": false,
     "start_time": "2023-04-11T05:30:53.281860",
     "status": "completed"
    },
    "tags": []
   },
   "outputs": [
    {
     "data": {
      "text/plain": [
       "<AxesSubplot:>"
      ]
     },
     "execution_count": 16,
     "metadata": {},
     "output_type": "execute_result"
    },
    {
     "data": {
      "image/png": "[encoded data removed]",
      "text/plain": [
       "<Figure size 1600x500 with 3 Axes>"
      ]
     },
     "metadata": {},
     "output_type": "display_data"
    }
   ],
   "source": [
    "### Training data visualization\n",
    "plt.figure(figsize=(16,5))\n",
    "ax_train = plt.subplot(1,2,2)\n",
    "mso.bar(fin_train_X,ax=ax_train,fontsize = 12)"
   ]
  },
  {
   "cell_type": "code",
   "execution_count": 17,
   "id": "e22b9678",
   "metadata": {
    "execution": {
     "iopub.execute_input": "2023-04-11T05:30:54.375828Z",
     "iopub.status.busy": "2023-04-11T05:30:54.375386Z",
     "iopub.status.idle": "2023-04-11T05:30:55.393440Z",
     "shell.execute_reply": "2023-04-11T05:30:55.391678Z"
    },
    "papermill": {
     "duration": 1.039696,
     "end_time": "2023-04-11T05:30:55.397246",
     "exception": false,
     "start_time": "2023-04-11T05:30:54.357550",
     "status": "completed"
    },
    "tags": []
   },
   "outputs": [
    {
     "data": {
      "text/plain": [
       "<AxesSubplot:>"
      ]
     },
     "execution_count": 17,
     "metadata": {},
     "output_type": "execute_result"
    },
    {
     "data": {
      "image/png": "[encoded data removed]",
      "text/plain": [
       "<Figure size 1600x500 with 3 Axes>"
      ]
     },
     "metadata": {},
     "output_type": "display_data"
    }
   ],
   "source": [
    "### Testing data visualization\n",
    "plt.figure(figsize=(16,5))\n",
    "ax_train = plt.subplot(1,2,2)\n",
    "mso.bar(fin_test_X,ax=ax_train,fontsize = 12)"
   ]
  },
  {
   "cell_type": "code",
   "execution_count": 18,
   "id": "ddf0b546",
   "metadata": {
    "execution": {
     "iopub.execute_input": "2023-04-11T05:30:55.429953Z",
     "iopub.status.busy": "2023-04-11T05:30:55.428863Z",
     "iopub.status.idle": "2023-04-11T05:30:55.435909Z",
     "shell.execute_reply": "2023-04-11T05:30:55.434764Z"
    },
    "papermill": {
     "duration": 0.025737,
     "end_time": "2023-04-11T05:30:55.438198",
     "exception": false,
     "start_time": "2023-04-11T05:30:55.412461",
     "status": "completed"
    },
    "tags": []
   },
   "outputs": [
    {
     "name": "stdout",
     "output_type": "stream",
     "text": [
      "0    549\n",
      "1    342\n",
      "Name: Survived, dtype: int64\n"
     ]
    }
   ],
   "source": [
    "print(fin_train_X['Survived'].value_counts())"
   ]
  },
  {
   "cell_type": "code",
   "execution_count": 19,
   "id": "7b80ca1c",
   "metadata": {
    "execution": {
     "iopub.execute_input": "2023-04-11T05:30:55.472259Z",
     "iopub.status.busy": "2023-04-11T05:30:55.471213Z",
     "iopub.status.idle": "2023-04-11T05:30:55.703342Z",
     "shell.execute_reply": "2023-04-11T05:30:55.702406Z"
    },
    "papermill": {
     "duration": 0.2517,
     "end_time": "2023-04-11T05:30:55.705542",
     "exception": false,
     "start_time": "2023-04-11T05:30:55.453842",
     "status": "completed"
    },
    "tags": []
   },
   "outputs": [
    {
     "data": {
      "image/png": "[encoded data removed]",
      "text/plain": [
       "<Figure size 640x480 with 1 Axes>"
      ]
     },
     "metadata": {},
     "output_type": "display_data"
    }
   ],
   "source": [
    "import seaborn as sns\n",
    "\n",
    "## We can check the data balanced or inbalanced in train dataset\n",
    "\n",
    "sns.set_theme(style=\"darkgrid\")\n",
    "sns.countplot(y=fin_train_X['Survived'], data=fin_train_X, palette=\"mako_r\")\n",
    "plt.ylabel('Survived Status')\n",
    "plt.xlabel('Total')\n",
    "plt.show()"
   ]
  },
  {
   "cell_type": "markdown",
   "id": "ca7d9d89",
   "metadata": {
    "papermill": {
     "duration": 0.015207,
     "end_time": "2023-04-11T05:30:55.736547",
     "exception": false,
     "start_time": "2023-04-11T05:30:55.721340",
     "status": "completed"
    },
    "tags": []
   },
   "source": [
    "### Split the dataset into train and test datasets"
   ]
  },
  {
   "cell_type": "code",
   "execution_count": 20,
   "id": "0a23a6c6",
   "metadata": {
    "execution": {
     "iopub.execute_input": "2023-04-11T05:30:55.769378Z",
     "iopub.status.busy": "2023-04-11T05:30:55.768586Z",
     "iopub.status.idle": "2023-04-11T05:30:55.985224Z",
     "shell.execute_reply": "2023-04-11T05:30:55.983780Z"
    },
    "papermill": {
     "duration": 0.236066,
     "end_time": "2023-04-11T05:30:55.987850",
     "exception": false,
     "start_time": "2023-04-11T05:30:55.751784",
     "status": "completed"
    },
    "tags": []
   },
   "outputs": [
    {
     "name": "stdout",
     "output_type": "stream",
     "text": [
      "(712, 12)\n",
      "(179, 12)\n",
      "(712,)\n",
      "(179,)\n"
     ]
    }
   ],
   "source": [
    "from sklearn.model_selection import train_test_split\n",
    "X = fin_train_X.drop(['Survived'], axis = 1)\n",
    "y = fin_train_X['Survived']\n",
    "\n",
    "X_train, X_test, y_train, y_test = train_test_split(X, y, test_size = 0.2, random_state = 47)\n",
    "print(X_train.shape)\n",
    "print(X_test.shape)\n",
    "print(y_train.shape)\n",
    "print(y_test.shape)"
   ]
  },
  {
   "cell_type": "markdown",
   "id": "eb5b58ae",
   "metadata": {
    "papermill": {
     "duration": 0.015118,
     "end_time": "2023-04-11T05:30:56.018376",
     "exception": false,
     "start_time": "2023-04-11T05:30:56.003258",
     "status": "completed"
    },
    "tags": []
   },
   "source": [
    "### Train ML Models"
   ]
  },
  {
   "cell_type": "code",
   "execution_count": 21,
   "id": "dd17b0b5",
   "metadata": {
    "execution": {
     "iopub.execute_input": "2023-04-11T05:30:56.050959Z",
     "iopub.status.busy": "2023-04-11T05:30:56.050496Z",
     "iopub.status.idle": "2023-04-11T05:30:56.431853Z",
     "shell.execute_reply": "2023-04-11T05:30:56.430275Z"
    },
    "papermill": {
     "duration": 0.400394,
     "end_time": "2023-04-11T05:30:56.434315",
     "exception": false,
     "start_time": "2023-04-11T05:30:56.033921",
     "status": "completed"
    },
    "tags": []
   },
   "outputs": [
    {
     "name": "stdout",
     "output_type": "stream",
     "text": [
      "              precision    recall  f1-score   support\n",
      "\n",
      "           0       0.81      0.79      0.80       109\n",
      "           1       0.68      0.71      0.70        70\n",
      "\n",
      "    accuracy                           0.76       179\n",
      "   macro avg       0.75      0.75      0.75       179\n",
      "weighted avg       0.76      0.76      0.76       179\n",
      "\n",
      "\n",
      "\n",
      "[[86 23]\n",
      " [20 50]]\n",
      "\n",
      "\n",
      "Decision Tree classification accuracy: 75.98%\n"
     ]
    }
   ],
   "source": [
    "from sklearn.metrics import confusion_matrix\n",
    "from sklearn.metrics import classification_report\n",
    "from sklearn.metrics import accuracy_score\n",
    "from sklearn.ensemble import RandomForestClassifier\n",
    "from sklearn.tree import DecisionTreeClassifier\n",
    "from sklearn.ensemble import GradientBoostingClassifier\n",
    "\n",
    "\n",
    "### Decision tree\n",
    "\n",
    "d_tree = DecisionTreeClassifier()\n",
    "d_tree.fit(X_train, y_train)\n",
    "\n",
    "y_pred = d_tree.predict(X_test)\n",
    "\n",
    "print(classification_report(y_test, y_pred), end='\\n')\n",
    "print('\\n')\n",
    "print(confusion_matrix(y_test, y_pred), end='\\n')\n",
    "print('\\n')\n",
    "print('Decision Tree classification accuracy: {:.2f}%'.format(accuracy_score(y_pred,y_test)*100),end = '\\n')\n"
   ]
  },
  {
   "cell_type": "code",
   "execution_count": 22,
   "id": "f650d0c0",
   "metadata": {
    "execution": {
     "iopub.execute_input": "2023-04-11T05:30:56.468538Z",
     "iopub.status.busy": "2023-04-11T05:30:56.467409Z",
     "iopub.status.idle": "2023-04-11T05:30:56.673832Z",
     "shell.execute_reply": "2023-04-11T05:30:56.672395Z"
    },
    "papermill": {
     "duration": 0.225601,
     "end_time": "2023-04-11T05:30:56.676281",
     "exception": false,
     "start_time": "2023-04-11T05:30:56.450680",
     "status": "completed"
    },
    "tags": []
   },
   "outputs": [
    {
     "name": "stdout",
     "output_type": "stream",
     "text": [
      "              precision    recall  f1-score   support\n",
      "\n",
      "           0       0.82      0.89      0.85       109\n",
      "           1       0.80      0.69      0.74        70\n",
      "\n",
      "    accuracy                           0.81       179\n",
      "   macro avg       0.81      0.79      0.79       179\n",
      "weighted avg       0.81      0.81      0.81       179\n",
      "\n",
      "[[97 12]\n",
      " [22 48]]\n",
      "Random Forest accuracy is: 81.01%\n"
     ]
    }
   ],
   "source": [
    "### Random Forest\n",
    "\n",
    "RFclassifier = RandomForestClassifier(max_leaf_nodes=45)\n",
    "RFclassifier.fit(X_train, y_train)\n",
    "\n",
    "y_pred = RFclassifier.predict(X_test)\n",
    "\n",
    "print(classification_report(y_test, y_pred))\n",
    "print(confusion_matrix(y_test, y_pred))\n",
    "\n",
    "from sklearn.metrics import accuracy_score\n",
    "RFAcc = accuracy_score(y_pred,y_test)\n",
    "print('Random Forest accuracy is: {:.2f}%'.format(RFAcc*100))"
   ]
  },
  {
   "cell_type": "code",
   "execution_count": 23,
   "id": "34e37a8c",
   "metadata": {
    "execution": {
     "iopub.execute_input": "2023-04-11T05:30:56.709404Z",
     "iopub.status.busy": "2023-04-11T05:30:56.708598Z",
     "iopub.status.idle": "2023-04-11T05:30:57.180301Z",
     "shell.execute_reply": "2023-04-11T05:30:57.178975Z"
    },
    "papermill": {
     "duration": 0.491161,
     "end_time": "2023-04-11T05:30:57.182953",
     "exception": false,
     "start_time": "2023-04-11T05:30:56.691792",
     "status": "completed"
    },
    "tags": []
   },
   "outputs": [
    {
     "name": "stdout",
     "output_type": "stream",
     "text": [
      "              precision    recall  f1-score   support\n",
      "\n",
      "           0       0.82      0.86      0.84       109\n",
      "           1       0.77      0.70      0.73        70\n",
      "\n",
      "    accuracy                           0.80       179\n",
      "   macro avg       0.79      0.78      0.79       179\n",
      "weighted avg       0.80      0.80      0.80       179\n",
      "\n",
      "[[94 15]\n",
      " [21 49]]\n",
      "Gradient Boosting accuracy is: 79.89%\n"
     ]
    }
   ],
   "source": [
    "GBclassifier = GradientBoostingClassifier(n_estimators=400, max_depth=3, max_leaf_nodes=10)\n",
    "GBclassifier.fit(X_train, y_train)\n",
    "\n",
    "y_pred = GBclassifier.predict(X_test)\n",
    "\n",
    "print(classification_report(y_test, y_pred))\n",
    "print(confusion_matrix(y_test, y_pred))\n",
    "\n",
    "from sklearn.metrics import accuracy_score\n",
    "GBAcc = accuracy_score(y_pred,y_test)\n",
    "print('Gradient Boosting accuracy is: {:.2f}%'.format(GBAcc*100))"
   ]
  },
  {
   "cell_type": "code",
   "execution_count": 24,
   "id": "e16d2b43",
   "metadata": {
    "execution": {
     "iopub.execute_input": "2023-04-11T05:30:57.216414Z",
     "iopub.status.busy": "2023-04-11T05:30:57.215973Z",
     "iopub.status.idle": "2023-04-11T05:30:59.442750Z",
     "shell.execute_reply": "2023-04-11T05:30:59.440719Z"
    },
    "papermill": {
     "duration": 2.246407,
     "end_time": "2023-04-11T05:30:59.445432",
     "exception": false,
     "start_time": "2023-04-11T05:30:57.199025",
     "status": "completed"
    },
    "tags": []
   },
   "outputs": [
    {
     "name": "stdout",
     "output_type": "stream",
     "text": [
      "              precision    recall  f1-score   support\n",
      "\n",
      "           0       0.81      0.87      0.84       109\n",
      "           1       0.77      0.69      0.73        70\n",
      "\n",
      "    accuracy                           0.80       179\n",
      "   macro avg       0.79      0.78      0.78       179\n",
      "weighted avg       0.80      0.80      0.80       179\n",
      "\n"
     ]
    }
   ],
   "source": [
    "### CatBoost\n",
    "import catboost\n",
    "from catboost import CatBoostClassifier\n",
    "\n",
    "# model\n",
    "model = CatBoostClassifier(verbose=False, random_state=18)\n",
    "\n",
    "# evaluation\n",
    "model.fit(X_train,y_train)\n",
    "y_pred = model.predict(X_test)\n",
    "print(classification_report(y_test, y_pred))"
   ]
  },
  {
   "cell_type": "markdown",
   "id": "3b506d4f",
   "metadata": {
    "papermill": {
     "duration": 0.015381,
     "end_time": "2023-04-11T05:30:59.476422",
     "exception": false,
     "start_time": "2023-04-11T05:30:59.461041",
     "status": "completed"
    },
    "tags": []
   },
   "source": [
    "## Evaluation"
   ]
  },
  {
   "cell_type": "code",
   "execution_count": 25,
   "id": "b478c120",
   "metadata": {
    "execution": {
     "iopub.execute_input": "2023-04-11T05:30:59.509714Z",
     "iopub.status.busy": "2023-04-11T05:30:59.508950Z",
     "iopub.status.idle": "2023-04-11T05:30:59.793907Z",
     "shell.execute_reply": "2023-04-11T05:30:59.792685Z"
    },
    "papermill": {
     "duration": 0.304512,
     "end_time": "2023-04-11T05:30:59.796508",
     "exception": false,
     "start_time": "2023-04-11T05:30:59.491996",
     "status": "completed"
    },
    "tags": []
   },
   "outputs": [
    {
     "data": {
      "image/png": "[encoded data removed]",
      "text/plain": [
       "<Figure size 800x600 with 2 Axes>"
      ]
     },
     "metadata": {},
     "output_type": "display_data"
    }
   ],
   "source": [
    "# confusion matrix\n",
    "plt.figure(figsize=(8,6))\n",
    "conf_mat = confusion_matrix(y_test, y_pred)\n",
    "sns.heatmap(conf_mat, annot=True, fmt=\"g\", cmap='coolwarm')\n",
    "plt.show()"
   ]
  },
  {
   "cell_type": "code",
   "execution_count": 26,
   "id": "24f1540a",
   "metadata": {
    "execution": {
     "iopub.execute_input": "2023-04-11T05:30:59.830853Z",
     "iopub.status.busy": "2023-04-11T05:30:59.829515Z",
     "iopub.status.idle": "2023-04-11T05:31:00.107000Z",
     "shell.execute_reply": "2023-04-11T05:31:00.105699Z"
    },
    "papermill": {
     "duration": 0.297381,
     "end_time": "2023-04-11T05:31:00.109732",
     "exception": false,
     "start_time": "2023-04-11T05:30:59.812351",
     "status": "completed"
    },
    "tags": []
   },
   "outputs": [
    {
     "data": {
      "text/plain": [
       "<Figure size 800x600 with 0 Axes>"
      ]
     },
     "metadata": {},
     "output_type": "display_data"
    },
    {
     "data": {
      "image/png": "[encoded data removed]",
      "text/plain": [
       "<Figure size 640x480 with 1 Axes>"
      ]
     },
     "metadata": {},
     "output_type": "display_data"
    }
   ],
   "source": [
    "from sklearn.metrics import *\n",
    "# ROC curve\n",
    "plt.figure(figsize=(8,6))\n",
    "fpr, tpr, thresholds = roc_curve(y_test, y_pred)\n",
    "roc_auc = auc(fpr, tpr)\n",
    "display = RocCurveDisplay(fpr=fpr, tpr=tpr, roc_auc=roc_auc, estimator_name='ROC curve')\n",
    "display.plot()\n",
    "plt.show()"
   ]
  },
  {
   "cell_type": "code",
   "execution_count": 27,
   "id": "0854c7de",
   "metadata": {
    "execution": {
     "iopub.execute_input": "2023-04-11T05:31:00.145673Z",
     "iopub.status.busy": "2023-04-11T05:31:00.145206Z",
     "iopub.status.idle": "2023-04-11T05:31:10.029078Z",
     "shell.execute_reply": "2023-04-11T05:31:10.027797Z"
    },
    "papermill": {
     "duration": 9.904831,
     "end_time": "2023-04-11T05:31:10.031736",
     "exception": false,
     "start_time": "2023-04-11T05:31:00.126905",
     "status": "completed"
    },
    "tags": []
   },
   "outputs": [
    {
     "data": {
      "text/plain": [
       "('Cross-validation roc_auc score :', 0.8681316698271578)"
      ]
     },
     "execution_count": 27,
     "metadata": {},
     "output_type": "execute_result"
    }
   ],
   "source": [
    "# model fitting\n",
    "from sklearn.model_selection import cross_val_score\n",
    "model = CatBoostClassifier(verbose=False, random_state=18)\n",
    "model.fit(X,y)\n",
    "# evaluation\n",
    "\"Cross-validation roc_auc score :\",cross_val_score(model, X, y, cv=5, scoring='roc_auc').mean()"
   ]
  },
  {
   "cell_type": "code",
   "execution_count": 28,
   "id": "8c3b3561",
   "metadata": {
    "execution": {
     "iopub.execute_input": "2023-04-11T05:31:10.067576Z",
     "iopub.status.busy": "2023-04-11T05:31:10.067167Z",
     "iopub.status.idle": "2023-04-11T05:31:17.755214Z",
     "shell.execute_reply": "2023-04-11T05:31:17.754001Z"
    },
    "papermill": {
     "duration": 7.70897,
     "end_time": "2023-04-11T05:31:17.757674",
     "exception": false,
     "start_time": "2023-04-11T05:31:10.048704",
     "status": "completed"
    },
    "tags": []
   },
   "outputs": [
    {
     "data": {
      "text/plain": [
       "('Cross-validation accuracy score :', 0.8260498399347185)"
      ]
     },
     "execution_count": 28,
     "metadata": {},
     "output_type": "execute_result"
    }
   ],
   "source": [
    "# evaluation\n",
    "\"Cross-validation accuracy score :\",cross_val_score(model, X, y, cv=5, scoring='accuracy').mean()"
   ]
  },
  {
   "cell_type": "code",
   "execution_count": 29,
   "id": "7a14f434",
   "metadata": {
    "execution": {
     "iopub.execute_input": "2023-04-11T05:31:17.793983Z",
     "iopub.status.busy": "2023-04-11T05:31:17.793516Z",
     "iopub.status.idle": "2023-04-11T05:31:18.172403Z",
     "shell.execute_reply": "2023-04-11T05:31:18.171012Z"
    },
    "papermill": {
     "duration": 0.399937,
     "end_time": "2023-04-11T05:31:18.174942",
     "exception": false,
     "start_time": "2023-04-11T05:31:17.775005",
     "status": "completed"
    },
    "tags": []
   },
   "outputs": [
    {
     "data": {
      "image/png": "[encoded data removed]",
      "text/plain": [
       "<Figure size 1000x800 with 1 Axes>"
      ]
     },
     "metadata": {},
     "output_type": "display_data"
    }
   ],
   "source": [
    "# Feature importance\n",
    "plt.figure(figsize=(10,8))\n",
    "fs = pd.Series(model.get_feature_importance(), index=X.columns).sort_values(ascending=False)\n",
    "sns.barplot(x=fs.values, y=fs.index, palette='viridis')\n",
    "plt.title('CatBoostClassifier feature importance')\n",
    "plt.xlabel('Feature importance')\n",
    "plt.ylabel('Reature names')\n",
    "plt.show()"
   ]
  },
  {
   "cell_type": "code",
   "execution_count": 30,
   "id": "22bcd1b1",
   "metadata": {
    "execution": {
     "iopub.execute_input": "2023-04-11T05:31:18.212206Z",
     "iopub.status.busy": "2023-04-11T05:31:18.211761Z",
     "iopub.status.idle": "2023-04-11T05:31:18.219987Z",
     "shell.execute_reply": "2023-04-11T05:31:18.218451Z"
    },
    "papermill": {
     "duration": 0.030038,
     "end_time": "2023-04-11T05:31:18.222757",
     "exception": false,
     "start_time": "2023-04-11T05:31:18.192719",
     "status": "completed"
    },
    "tags": []
   },
   "outputs": [],
   "source": [
    "prediction = model.predict(fin_test_X)"
   ]
  },
  {
   "cell_type": "code",
   "execution_count": 31,
   "id": "4667b03a",
   "metadata": {
    "execution": {
     "iopub.execute_input": "2023-04-11T05:31:18.260336Z",
     "iopub.status.busy": "2023-04-11T05:31:18.259475Z",
     "iopub.status.idle": "2023-04-11T05:31:18.273535Z",
     "shell.execute_reply": "2023-04-11T05:31:18.272225Z"
    },
    "papermill": {
     "duration": 0.036097,
     "end_time": "2023-04-11T05:31:18.276455",
     "exception": false,
     "start_time": "2023-04-11T05:31:18.240358",
     "status": "completed"
    },
    "tags": []
   },
   "outputs": [],
   "source": [
    "output = pd.DataFrame({'PassengerId': test_X['PassengerId'], 'Survived': prediction})\n",
    "output.to_csv('submission.csv', index=False)"
   ]
  },
  {
   "cell_type": "code",
   "execution_count": 32,
   "id": "d36123c2",
   "metadata": {
    "execution": {
     "iopub.execute_input": "2023-04-11T05:31:18.316018Z",
     "iopub.status.busy": "2023-04-11T05:31:18.315436Z",
     "iopub.status.idle": "2023-04-11T05:31:18.329073Z",
     "shell.execute_reply": "2023-04-11T05:31:18.327886Z"
    },
    "papermill": {
     "duration": 0.037078,
     "end_time": "2023-04-11T05:31:18.331632",
     "exception": false,
     "start_time": "2023-04-11T05:31:18.294554",
     "status": "completed"
    },
    "tags": []
   },
   "outputs": [
    {
     "data": {
      "text/html": [
       "<div>\n",
       "<style scoped>\n",
       "    .dataframe tbody tr th:only-of-type {\n",
       "        vertical-align: middle;\n",
       "    }\n",
       "\n",
       "    .dataframe tbody tr th {\n",
       "        vertical-align: top;\n",
       "    }\n",
       "\n",
       "    .dataframe thead th {\n",
       "        text-align: right;\n",
       "    }\n",
       "</style>\n",
       "<table border=\"1\" class=\"dataframe\">\n",
       "  <thead>\n",
       "    <tr style=\"text-align: right;\">\n",
       "      <th></th>\n",
       "      <th>PassengerId</th>\n",
       "      <th>Survived</th>\n",
       "    </tr>\n",
       "  </thead>\n",
       "  <tbody>\n",
       "    <tr>\n",
       "      <th>0</th>\n",
       "      <td>892</td>\n",
       "      <td>0</td>\n",
       "    </tr>\n",
       "    <tr>\n",
       "      <th>1</th>\n",
       "      <td>893</td>\n",
       "      <td>0</td>\n",
       "    </tr>\n",
       "    <tr>\n",
       "      <th>2</th>\n",
       "      <td>894</td>\n",
       "      <td>0</td>\n",
       "    </tr>\n",
       "    <tr>\n",
       "      <th>3</th>\n",
       "      <td>895</td>\n",
       "      <td>0</td>\n",
       "    </tr>\n",
       "    <tr>\n",
       "      <th>4</th>\n",
       "      <td>896</td>\n",
       "      <td>0</td>\n",
       "    </tr>\n",
       "  </tbody>\n",
       "</table>\n",
       "</div>"
      ],
      "text/plain": [
       "   PassengerId  Survived\n",
       "0          892         0\n",
       "1          893         0\n",
       "2          894         0\n",
       "3          895         0\n",
       "4          896         0"
      ]
     },
     "execution_count": 32,
     "metadata": {},
     "output_type": "execute_result"
    }
   ],
   "source": [
    "predcsv = pd.read_csv('./submission.csv')\n",
    "predcsv.head()"
   ]
  },
  {
   "cell_type": "code",
   "execution_count": null,
   "id": "fa982494",
   "metadata": {
    "papermill": {
     "duration": 0.017696,
     "end_time": "2023-04-11T05:31:18.368280",
     "exception": false,
     "start_time": "2023-04-11T05:31:18.350584",
     "status": "completed"
    },
    "tags": []
   },
   "outputs": [],
   "source": []
  }
 ],
 "metadata": {
  "kernelspec": {
   "display_name": "Python 3",
   "language": "python",
   "name": "python3"
  },
  "language_info": {
   "codemirror_mode": {
    "name": "ipython",
    "version": 3
   },
   "file_extension": ".py",
   "mimetype": "text/x-python",
   "name": "python",
   "nbconvert_exporter": "python",
   "pygments_lexer": "ipython3",
   "version": "3.7.12"
  },
  "papermill": {
   "default_parameters": {},
   "duration": 40.461264,
   "end_time": "2023-04-11T05:31:19.309330",
   "environment_variables": {},
   "exception": null,
   "input_path": "__notebook__.ipynb",
   "output_path": "__notebook__.ipynb",
   "parameters": {},
   "start_time": "2023-04-11T05:30:38.848066",
   "version": "2.4.0"
  }
 },
 "nbformat": 4,
 "nbformat_minor": 5
}
