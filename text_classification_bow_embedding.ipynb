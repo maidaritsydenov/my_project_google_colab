{
  "nbformat": 4,
  "nbformat_minor": 0,
  "metadata": {
    "colab": {
      "provenance": [],
      "toc_visible": true,
      "name": "text_classification_bow_embedding.ipynb"
    },
    "kernelspec": {
      "name": "python3",
      "display_name": "Python 3"
    },
    "language_info": {
      "name": "python"
    },
    "accelerator": "GPU"
  },
  "cells": [
    {
      "cell_type": "markdown",
      "source": [
        "# Задание"
      ],
      "metadata": {
        "id": "9Dx1yiq3bAGK"
      }
    },
    {
      "cell_type": "markdown",
      "metadata": {
        "id": "3hahJ-ONkfmR"
      },
      "source": [
        "Дорогой студент!\n",
        "\n",
        "В домашнем задании Ultra Pro занятия по обработке тектсов с помощью НС мы ставим задачу распознать уже не 6, как ранее, а целых 20 русских писателей! Это подразумевает и больший размер базы для обучения соответственно. Ячейка для скачивания базы уже включена в ноутбук задания.\n",
        "\n",
        "\n",
        " В задании необходимо выполнить следующие пункты:\n",
        "\n",
        "  1. Загрузить саму базу по ссылке и подговить файлы базы для обработки.\n",
        "  2. Создать обучающую и проверочную выборки, обратив особое внимание на балансировку базы: количество примеров каждого класса должно быть примерно одного порядка. При этом для разбивки необходимо применить цикл. Проверочная выборка должна быть 20% от общей выборки.\n",
        "  3. Подготовьте выборки для обучения и обучите сеть. Добейтесь результата точности сети не менее 95% на проверочной выборке модели Bag of Words и 75-80% - для модели Embedding.\n",
        "   \n"
      ]
    },
    {
      "cell_type": "markdown",
      "source": [
        "# Решение"
      ],
      "metadata": {
        "id": "eciQwXgpbD9f"
      }
    },
    {
      "cell_type": "markdown",
      "metadata": {
        "id": "QolTxRtFWm3r"
      },
      "source": [
        "## Загрузка и распаковка данных"
      ]
    },
    {
      "cell_type": "code",
      "metadata": {
        "id": "pBys9ajOW43u",
        "colab": {
          "base_uri": "https://localhost:8080/",
          "height": 35
        },
        "outputId": "a88db4f9-ecb9-4f16-b357-78723c36d36c"
      },
      "source": [
        "import gdown                                      # Подключим функцию gdown\n",
        "gdown.download('https://storage.yandexcloud.net/aiueducation/Content/base/l7/20writers.zip', None, quiet=True)      # Скачивание файла"
      ],
      "execution_count": null,
      "outputs": [
        {
          "output_type": "execute_result",
          "data": {
            "text/plain": [
              "'20writers.zip'"
            ],
            "application/vnd.google.colaboratory.intrinsic+json": {
              "type": "string"
            }
          },
          "metadata": {},
          "execution_count": 1
        }
      ]
    },
    {
      "cell_type": "code",
      "source": [
        "!unzip -q 20writers.zip -d 20writers"
      ],
      "metadata": {
        "colab": {
          "base_uri": "https://localhost:8080/"
        },
        "id": "AyMlfG0KVKZ0",
        "outputId": "7ffd2e6d-7697-4bef-ce4a-c55ebf1cd837"
      },
      "execution_count": null,
      "outputs": [
        {
          "output_type": "stream",
          "name": "stdout",
          "text": [
            "replace 20writers/Грибоедов.txt? [y]es, [n]o, [A]ll, [N]one, [r]ename: A\n"
          ]
        }
      ]
    },
    {
      "cell_type": "code",
      "source": [
        "import os\n",
        "\n",
        "DIR_PATH = '/content/20writers/'"
      ],
      "metadata": {
        "id": "gO2Q7oSGVWrd"
      },
      "execution_count": null,
      "outputs": []
    },
    {
      "cell_type": "markdown",
      "source": [
        "## Подготовка выборки"
      ],
      "metadata": {
        "id": "jI0QHTgPa9-P"
      }
    },
    {
      "cell_type": "markdown",
      "source": [
        "### Запись в список всех текстов всех авторов"
      ],
      "metadata": {
        "id": "vCzGVqq3h4Ur"
      }
    },
    {
      "cell_type": "code",
      "source": [
        "LABELS = []\n",
        "COUNT_LABELS = 0"
      ],
      "metadata": {
        "id": "GMfecQjVYqEJ"
      },
      "execution_count": null,
      "outputs": []
    },
    {
      "cell_type": "code",
      "source": [
        "for cls in os.listdir(DIR_PATH):\n",
        "    len_label = len(cls)\n",
        "    LABELS.append(cls[:len_label - 4:])\n",
        "\n",
        "LABELS = sorted(LABELS)\n",
        "COUNT_LABELS = len(LABELS)\n",
        "\n",
        "print(LABELS)\n",
        "print(COUNT_LABELS)"
      ],
      "metadata": {
        "colab": {
          "base_uri": "https://localhost:8080/"
        },
        "id": "JHdEfr-BXegW",
        "outputId": "76869d6c-c77c-4d12-daac-1ed40d14cc03"
      },
      "execution_count": null,
      "outputs": [
        {
          "output_type": "stream",
          "name": "stdout",
          "text": [
            "['Беляев', 'Булгаков', 'Васильев', 'Гоголь', 'Гончаров', 'Горький', 'Грибоедов', 'Достоевский', 'Каверин', 'Катаев', 'Куприн', 'Лермонтов', 'Лесков', 'Носов', 'Пастернак', 'Пушкин', 'Толстой', 'Тургенев', 'Чехов', 'Шолохов']\n",
            "20\n"
          ]
        }
      ]
    },
    {
      "cell_type": "code",
      "source": [
        "def read_file(file_name):\n",
        "    read_file = open(file_name, 'r')\n",
        "    text = read_file.read()\n",
        "    text = text.replace('\\n', ' ')\n",
        "    return text"
      ],
      "metadata": {
        "id": "TYp25PdbVv_U"
      },
      "execution_count": null,
      "outputs": []
    },
    {
      "cell_type": "code",
      "source": [
        "DATA = []"
      ],
      "metadata": {
        "id": "kV42zMHIaLKR"
      },
      "execution_count": null,
      "outputs": []
    },
    {
      "cell_type": "code",
      "source": [
        "for filename in sorted(os.listdir(DIR_PATH)):\n",
        "    DATA.append(read_file(DIR_PATH + filename))\n",
        "    print(f'{filename} добавлен в выборку')"
      ],
      "metadata": {
        "colab": {
          "base_uri": "https://localhost:8080/"
        },
        "id": "w--asRnSY0XB",
        "outputId": "04c918bc-09fa-4058-de05-0a4eeb26389f"
      },
      "execution_count": null,
      "outputs": [
        {
          "output_type": "stream",
          "name": "stdout",
          "text": [
            "Беляев.txt добавлен в выборку\n",
            "Булгаков.txt добавлен в выборку\n",
            "Васильев.txt добавлен в выборку\n",
            "Гоголь.txt добавлен в выборку\n",
            "Гончаров.txt добавлен в выборку\n",
            "Горький.txt добавлен в выборку\n",
            "Грибоедов.txt добавлен в выборку\n",
            "Достоевский.txt добавлен в выборку\n",
            "Каверин.txt добавлен в выборку\n",
            "Катаев.txt добавлен в выборку\n",
            "Куприн.txt добавлен в выборку\n",
            "Лермонтов.txt добавлен в выборку\n",
            "Лесков.txt добавлен в выборку\n",
            "Носов.txt добавлен в выборку\n",
            "Пастернак.txt добавлен в выборку\n",
            "Пушкин.txt добавлен в выборку\n",
            "Толстой.txt добавлен в выборку\n",
            "Тургенев.txt добавлен в выборку\n",
            "Чехов.txt добавлен в выборку\n",
            "Шолохов.txt добавлен в выборку\n"
          ]
        }
      ]
    },
    {
      "cell_type": "code",
      "source": [
        "f = open('/content/20writers/Беляев.txt', 'r')\n",
        "print(f.read(50))\n",
        "\n",
        "print()\n",
        "\n",
        "print(DATA[0][:50])\n",
        "print(len(DATA[0]))"
      ],
      "metadata": {
        "colab": {
          "base_uri": "https://localhost:8080/"
        },
        "id": "RU3GcYo1WTaF",
        "outputId": "bbde6687-4637-484f-cae4-806f7b7dfa28"
      },
      "execution_count": null,
      "outputs": [
        {
          "output_type": "stream",
          "name": "stdout",
          "text": [
            "﻿Часть первая\n",
            "\n",
            "I. На палубе\n",
            "\n",
            "\n",
            "Большой трансатланти\n",
            "\n",
            "﻿Часть первая  I. На палубе   Большой трансатланти\n",
            "2255254\n"
          ]
        }
      ]
    },
    {
      "cell_type": "markdown",
      "source": [
        "### Визуализация межклассового баланса"
      ],
      "metadata": {
        "id": "XcL10PC4h_UT"
      }
    },
    {
      "cell_type": "code",
      "source": [
        "texts_len = [len(DATA[i]) for i in range(COUNT_LABELS)]\n",
        "print(texts_len)"
      ],
      "metadata": {
        "colab": {
          "base_uri": "https://localhost:8080/"
        },
        "id": "XM7P2k1va1fq",
        "outputId": "ebe37e9a-4b2a-402b-8b0a-18599cd037b6"
      },
      "execution_count": null,
      "outputs": [
        {
          "output_type": "stream",
          "name": "stdout",
          "text": [
            "[2255254, 2001064, 2952792, 1965119, 3104712, 2523380, 969109, 5178950, 1992830, 2579246, 2328900, 1972541, 2152214, 2399413, 3089426, 3408339, 3357061, 1980206, 6611627, 3386268]\n"
          ]
        }
      ]
    },
    {
      "cell_type": "code",
      "source": [
        "# Визуализация баланса выборок по классам\n",
        "\n",
        "import seaborn as sns\n",
        "import pandas as pd\n",
        "import matplotlib.pyplot as plt\n",
        "import numpy as np\n",
        "\n",
        "\n",
        "# df = pd.DataFrame(texts_len, LABELS)\n",
        "\n",
        "fig = plt.figure(figsize=(25, 4))\n",
        "ax = fig.add_subplot()\n",
        "ax.set_title('Баланс выборок по классам')\n",
        "\n",
        "x = np.array(LABELS)\n",
        "y = np.array(texts_len)\n",
        "# ax.annotate([i for i in texts_len], (x, y))\n",
        "\n",
        "ax.set_xlabel('Класс')\n",
        "ax.set_ylabel('Количество символов')\n",
        "ax.bar(x, y)"
      ],
      "metadata": {
        "colab": {
          "base_uri": "https://localhost:8080/",
          "height": 329
        },
        "id": "TY_rZBrrb47q",
        "outputId": "bf0f133b-6060-4285-f347-059eab549667"
      },
      "execution_count": null,
      "outputs": [
        {
          "output_type": "execute_result",
          "data": {
            "text/plain": [
              "<BarContainer object of 20 artists>"
            ]
          },
          "metadata": {},
          "execution_count": 11
        },
        {
          "output_type": "display_data",
          "data": {
            "text/plain": [
              "<Figure size 2500x400 with 1 Axes>"
            ],
            "image/png": "[encoded data removed]"
          },
          "metadata": {}
        }
      ]
    },
    {
      "cell_type": "markdown",
      "source": [
        "Виден небольшой дисбаланс, попробуем не изменять размер выборок"
      ],
      "metadata": {
        "id": "Groz4AkLhrT3"
      }
    },
    {
      "cell_type": "markdown",
      "source": [
        "### Деление на тестовую выборку и обучающую"
      ],
      "metadata": {
        "id": "tKPwyFQJiFoX"
      }
    },
    {
      "cell_type": "code",
      "source": [
        "# Запись в отдельный список количества 80% выборки каждого класса в символах\n",
        "print(texts_len)\n",
        "\n",
        "percentage_80 = [(i - round(i/5)) for i in texts_len]\n",
        "\n",
        "print(percentage_80)"
      ],
      "metadata": {
        "colab": {
          "base_uri": "https://localhost:8080/"
        },
        "id": "wUCSmhkuhxq9",
        "outputId": "a0dc6e0a-7be5-4b9f-f2aa-360c0c92677c"
      },
      "execution_count": null,
      "outputs": [
        {
          "output_type": "stream",
          "name": "stdout",
          "text": [
            "[2255254, 2001064, 2952792, 1965119, 3104712, 2523380, 969109, 5178950, 1992830, 2579246, 2328900, 1972541, 2152214, 2399413, 3089426, 3408339, 3357061, 1980206, 6611627, 3386268]\n",
            "[1804203, 1600851, 2362234, 1572095, 2483770, 2018704, 775287, 4143160, 1594264, 2063397, 1863120, 1578033, 1721771, 1919530, 2471541, 2726671, 2685649, 1584165, 5289302, 2709014]\n"
          ]
        }
      ]
    },
    {
      "cell_type": "code",
      "source": [
        "train_data = []\n",
        "test_data = []\n",
        "\n",
        "for i in range(COUNT_LABELS):\n",
        "    train_data.append(DATA[i][:percentage_80[i]])\n",
        "    test_data.append(DATA[i][percentage_80[i]:])"
      ],
      "metadata": {
        "id": "4alhPRjfi-T-"
      },
      "execution_count": null,
      "outputs": []
    },
    {
      "cell_type": "code",
      "source": [
        "print(f'Количество элементов в train_data: {len(train_data)}')\n",
        "print(f'Тип train_data: {type(train_data)}')\n",
        "print(f'Тип данных первого элемента: {type(train_data[0])}')\n",
        "print()\n",
        "print(f'Общая длина первого элемента: {len(DATA[0])}')\n",
        "print(f'80% длины первого элемента: {len(train_data[0])}')\n",
        "print(f'Отрывок из первого текста обучающей выборки: {train_data[0][:26]}')"
      ],
      "metadata": {
        "colab": {
          "base_uri": "https://localhost:8080/"
        },
        "id": "MSGqXzU3nhls",
        "outputId": "90256cb3-63b4-40f8-9998-7a5ec2f5db89"
      },
      "execution_count": null,
      "outputs": [
        {
          "output_type": "stream",
          "name": "stdout",
          "text": [
            "Количество элементов в train_data: 20\n",
            "Тип train_data: <class 'list'>\n",
            "Тип данных первого элемента: <class 'str'>\n",
            "\n",
            "Общая длина первого элемента: 2255254\n",
            "80% длины первого элемента: 1804203\n",
            "Отрывок из первого текста обучающей выборки: ﻿Часть первая  I. На палуб\n"
          ]
        }
      ]
    },
    {
      "cell_type": "code",
      "source": [
        "print(f'Количество элементов в test_data: {len(test_data)}')\n",
        "print(f'Тип test_data: {type(test_data)}')\n",
        "print(f'Тип данных первого элемента: {type(test_data[0])}')\n",
        "print()\n",
        "print(f'Общая длина первого элемента: {len(DATA[0])}')\n",
        "print(f'80% длины первого элемента: {len(test_data[0])}')\n",
        "print(f'Отрывок из первого текста тестовой выборки: {test_data[0][:26]}')"
      ],
      "metadata": {
        "colab": {
          "base_uri": "https://localhost:8080/"
        },
        "id": "PXHOb65moP-t",
        "outputId": "5a2beb10-9890-4ed7-9ee5-2bcd780be5aa"
      },
      "execution_count": null,
      "outputs": [
        {
          "output_type": "stream",
          "name": "stdout",
          "text": [
            "Количество элементов в test_data: 20\n",
            "Тип test_data: <class 'list'>\n",
            "Тип данных первого элемента: <class 'str'>\n",
            "\n",
            "Общая длина первого элемента: 2255254\n",
            "80% длины первого элемента: 451051\n",
            "Отрывок из первого текста тестовой выборки: внул головой с видом докто\n"
          ]
        }
      ]
    },
    {
      "cell_type": "markdown",
      "source": [
        "### Скармливаем выборки токенайзеру\n",
        "- Чтобы создать словарь частности\n",
        "- Матрицу последовательности"
      ],
      "metadata": {
        "id": "WFOLniURoZSy"
      }
    },
    {
      "cell_type": "code",
      "source": [
        "# Функции-утилиты для работы с категориальными данными\n",
        "from tensorflow.keras import utils\n",
        "\n",
        "# Класс для конструирования последовательной модели нейронной сети\n",
        "from tensorflow.keras.models import Sequential\n",
        "\n",
        "# Основные слои\n",
        "from tensorflow.keras.layers import Dense, Dropout, SpatialDropout1D, BatchNormalization, Embedding, Flatten, Activation \n",
        "\n",
        "# Токенизатор для преобразование текстов в последовательности\n",
        "from tensorflow.keras.preprocessing.text import Tokenizer\n",
        "\n",
        "# Заполнение последовательностей до определенной длины\n",
        "from tensorflow.keras.preprocessing.sequence import pad_sequences\n",
        "\n",
        "%matplotlib inline"
      ],
      "metadata": {
        "id": "QkyVCLDSor7M"
      },
      "execution_count": null,
      "outputs": []
    },
    {
      "cell_type": "code",
      "source": [
        "# Максимальное количество слов\n",
        "maxWordsCount = 15000\n",
        "\n",
        "# Сохраним Токенайзер в одноименной переменной\n",
        "tokenizer = Tokenizer(num_words=maxWordsCount,                                        # Максимальное кол-во слов                                       \n",
        "                      filters='!\"#$%&()*+,-–—./…:;<=>?@[\\\\]^_`{|}~«»\\t\\n\\xa0\\ufeff',  # Фильтры исходного текста \n",
        "                      lower=True, split=' ',                                          # Все буквы к нижнему регистру, разделение слов пробелом\n",
        "                      oov_token='unknown',                                            # Один лейбл для всех незнакомых слов\n",
        "                      char_level=False)                                               # Без выравнивания символов"
      ],
      "metadata": {
        "id": "S2qD4gGiol0K"
      },
      "execution_count": null,
      "outputs": []
    },
    {
      "cell_type": "markdown",
      "source": [
        "Создаем словарь частности"
      ],
      "metadata": {
        "id": "WKiGSUIKp2pj"
      }
    },
    {
      "cell_type": "code",
      "source": [
        "# Создание словаря частотности по каждой выборке\n",
        "tokenizer.fit_on_texts(train_data)\n",
        "tokenizer.fit_on_texts(test_data)\n",
        "\n",
        "example = list(tokenizer.word_index.items())\n",
        "print(example[:15])"
      ],
      "metadata": {
        "colab": {
          "base_uri": "https://localhost:8080/"
        },
        "id": "CMdnfVewo8wx",
        "outputId": "bf23d5b5-a922-4199-e425-49b3cd433936"
      },
      "execution_count": null,
      "outputs": [
        {
          "output_type": "stream",
          "name": "stdout",
          "text": [
            "[('unknown', 1), ('и', 2), ('в', 3), ('не', 4), ('на', 5), ('что', 6), ('с', 7), ('я', 8), ('он', 9), ('а', 10), ('как', 11), ('то', 12), ('его', 13), ('к', 14), ('но', 15)]\n"
          ]
        }
      ]
    },
    {
      "cell_type": "markdown",
      "source": [
        "Переводим словарь частности в последовательность индексов"
      ],
      "metadata": {
        "id": "ZIkXf4HOp7hB"
      }
    },
    {
      "cell_type": "code",
      "source": [
        "# Функция texts_to_sequences() возвращает только массив индексов\n",
        "train_sequence = tokenizer.texts_to_sequences(train_data)\n",
        "test_sequence = tokenizer.texts_to_sequences(test_data)"
      ],
      "metadata": {
        "id": "Ij1dPsmVpu5W"
      },
      "execution_count": null,
      "outputs": []
    },
    {
      "cell_type": "code",
      "source": [
        "# Посмотрим первые 15 индексов слов oбучающей и тестовой выборок\n",
        "print(f'Кол-во индексов первого текста обучающей выборки: {len(train_sequence[0])}')\n",
        "print(f'Кол-во индексов первого текста тестовой выборки:  {len(test_sequence[0])}') \n",
        "print(f'Первые 15 индексов первого текста обучающей выборки: {train_sequence[0][:15]}')\n",
        "print(f'Первые 15 индексов первого текста тестовой выборки: {test_sequence[0][:15]}')"
      ],
      "metadata": {
        "colab": {
          "base_uri": "https://localhost:8080/"
        },
        "id": "cJveAOW5qJVj",
        "outputId": "b9b0cb75-4fff-4a99-dbfc-fb055a67273f"
      },
      "execution_count": null,
      "outputs": [
        {
          "output_type": "stream",
          "name": "stdout",
          "text": [
            "Кол-во индексов первого текста обучающей выборки: 269587\n",
            "Кол-во индексов первого текста тестовой выборки:  67439\n",
            "Первые 15 индексов первого текста обучающей выборки: [727, 1201, 1558, 5, 4432, 403, 1, 2456, 1, 1, 289, 3, 1, 12410, 8808]\n",
            "Первые 15 индексов первого текста тестовой выборки: [1, 259, 7, 958, 1041, 9134, 249, 1, 10, 39, 6, 27, 3404, 8, 3219]\n"
          ]
        }
      ]
    },
    {
      "cell_type": "markdown",
      "source": [
        "### Деление выборки на примеры\n",
        "Для увеличения примеров"
      ],
      "metadata": {
        "id": "A4Rs8_jlqUc3"
      }
    },
    {
      "cell_type": "code",
      "source": [
        "def split_sequence(sequence,   # Последовательность индексов\n",
        "                   win_size,   # Размер окна для деления на примеры\n",
        "                   hop):       # Шаг окна\n",
        "\n",
        "    # Последовательность разбивается на части до последнего полного окна\n",
        "    return [sequence[i:i + win_size] for i in range(0, len(sequence) - win_size + 1, hop)]"
      ],
      "metadata": {
        "id": "UaKH9Jz8qcQd"
      },
      "execution_count": null,
      "outputs": []
    },
    {
      "cell_type": "code",
      "source": [
        "def vectorize_sequence(seq_list,    # Список последовательностей индексов \n",
        "                       win_size,    # Размер окна для деления на примеры\n",
        "                       hop):        # Шаг окна\n",
        "\n",
        "    # В списке последовательности следуют в порядке их классов (их кол-во сповпадает с кол-вом классов)\n",
        "    class_count = len(seq_list)\n",
        "\n",
        "    # Списки для исходных векторов и категориальных меток класса\n",
        "    x, y = [], []\n",
        "\n",
        "    # Для каждого класса:\n",
        "    for cls in range(class_count):\n",
        "\n",
        "        # Разбиение последовательности класса cls на отрезки\n",
        "        vectors = split_sequence(seq_list[cls], win_size, hop)\n",
        "\n",
        "        # Добавление отрезков в выборку\n",
        "\n",
        "        x += vectors\n",
        "        \n",
        "        # Для всех отрезков класса cls добавление меток класса в виде OHE\n",
        "        y += [utils.to_categorical(cls, class_count)] * len(vectors)\n",
        "\n",
        "    # Возврат результатов как numpy-массивов\n",
        "    return np.array(x), np.array(y)"
      ],
      "metadata": {
        "id": "67EPr03bqeB3"
      },
      "execution_count": null,
      "outputs": []
    },
    {
      "cell_type": "code",
      "source": [
        "# Длина каждого отрезка индексов\n",
        "sample_len = 1000\n",
        "\n",
        "# Длина шага по исходному массиву индексов                                                      \n",
        "step = 500\n",
        "\n",
        "# Делим на выборки                                                             \n",
        "x_train, y_train = vectorize_sequence(train_sequence, sample_len, step) \n",
        "x_test, y_test = vectorize_sequence(test_sequence, sample_len, step)"
      ],
      "metadata": {
        "id": "Hc_5vdZhqscJ"
      },
      "execution_count": null,
      "outputs": []
    },
    {
      "cell_type": "code",
      "source": [
        "# Выведем размерности всех выборок\n",
        "print(x_train.shape)\n",
        "print(y_train.shape)\n",
        "print(x_test.shape)\n",
        "print(y_test.shape)"
      ],
      "metadata": {
        "colab": {
          "base_uri": "https://localhost:8080/"
        },
        "id": "_WZiby7zqtAd",
        "outputId": "8a14086a-3d66-4362-a062-acca716e5097"
      },
      "execution_count": null,
      "outputs": [
        {
          "output_type": "stream",
          "name": "stdout",
          "text": [
            "(13826, 1000)\n",
            "(13826, 20)\n",
            "(3452, 1000)\n",
            "(3452, 20)\n"
          ]
        }
      ]
    },
    {
      "cell_type": "markdown",
      "source": [
        "## Создание последовательности индексов с помощью Bag of Words"
      ],
      "metadata": {
        "id": "rXBoBTvXqw09"
      }
    },
    {
      "cell_type": "code",
      "source": [
        "# Выборка для обучения                                                           \n",
        "x_train_BoW = tokenizer.sequences_to_matrix(x_train.tolist())\n",
        "\n",
        "# Выборка для проверки  \n",
        "x_test_BoW = tokenizer.sequences_to_matrix(x_test.tolist())"
      ],
      "metadata": {
        "id": "2nAmFOv2q45J"
      },
      "execution_count": null,
      "outputs": []
    },
    {
      "cell_type": "markdown",
      "source": [
        "### Создание и обучение модели НС"
      ],
      "metadata": {
        "id": "vOGfwHKBq7W7"
      }
    },
    {
      "cell_type": "code",
      "source": [
        "modelBoW = Sequential()                                    # Создаём полносвязную сеть для обучения на Bag of Words\n",
        "# modelBoW.add(BatchNormalization(input_dim=maxWordsCount))  # Слой пакетной нормализации\n",
        "modelBoW.add(Dense(80,  input_dim=maxWordsCount, activation=\"relu\"))                # Полносвязный слой\n",
        "modelBoW.add(Dropout(0.8))                                 # Слой регуляризации Dropout\n",
        "modelBoW.add(Dense(20, activation=\"relu\"))                 # Полносвязный слой\n",
        "modelBoW.add(Dense(20, activation='sigmoid'))              # Выходной полносвязный слой\n",
        "\n",
        "modelBoW.compile(optimizer='adam',                         # Компиляция модели\n",
        "              loss='categorical_crossentropy', \n",
        "              metrics=['accuracy'])\n",
        "modelBoW.summary()                                         # Обобщение информации по модели"
      ],
      "metadata": {
        "colab": {
          "base_uri": "https://localhost:8080/"
        },
        "id": "CxLhU3qLq9Yd",
        "outputId": "ffaf0d16-3db0-4636-da4f-ce0a8c11e7ec"
      },
      "execution_count": null,
      "outputs": [
        {
          "output_type": "stream",
          "name": "stdout",
          "text": [
            "Model: \"sequential_12\"\n",
            "_________________________________________________________________\n",
            " Layer (type)                Output Shape              Param #   \n",
            "=================================================================\n",
            " dense_36 (Dense)            (None, 80)                1200080   \n",
            "                                                                 \n",
            " dropout_10 (Dropout)        (None, 80)                0         \n",
            "                                                                 \n",
            " dense_37 (Dense)            (None, 20)                1620      \n",
            "                                                                 \n",
            " dense_38 (Dense)            (None, 20)                420       \n",
            "                                                                 \n",
            "=================================================================\n",
            "Total params: 1,202,120\n",
            "Trainable params: 1,202,120\n",
            "Non-trainable params: 0\n",
            "_________________________________________________________________\n"
          ]
        }
      ]
    },
    {
      "cell_type": "code",
      "source": [
        "# Обучение сети Bag of Words\n",
        "history = modelBoW.fit(x_train_BoW, \n",
        "                      y_train, \n",
        "                      epochs=25,\n",
        "                      batch_size=64,\n",
        "                      validation_data=(x_test_BoW, y_test))\n",
        "\n",
        "# Отрисовка графика точностей обучения по эпохам\n",
        "plt.plot(history.history['accuracy'], \n",
        "         label='Доля верных ответов на обучающем наборе')\n",
        "plt.plot(history.history['val_accuracy'], \n",
        "         label='Доля верных ответов на проверочном наборе')\n",
        "plt.xlabel('Эпоха обучения')\n",
        "plt.ylabel('Доля верных ответов')\n",
        "plt.legend()\n",
        "plt.show()"
      ],
      "metadata": {
        "colab": {
          "base_uri": "https://localhost:8080/",
          "height": 1000
        },
        "id": "UQVqOVm1rAKe",
        "outputId": "d1163913-fd99-40d0-d8a6-f95da96267ed"
      },
      "execution_count": null,
      "outputs": [
        {
          "output_type": "stream",
          "name": "stdout",
          "text": [
            "Epoch 1/25\n",
            "217/217 [==============================] - 3s 9ms/step - loss: 2.4568 - accuracy: 0.2345 - val_loss: 1.5140 - val_accuracy: 0.6834\n",
            "Epoch 2/25\n",
            "217/217 [==============================] - 1s 6ms/step - loss: 1.5810 - accuracy: 0.4628 - val_loss: 0.7826 - val_accuracy: 0.8673\n",
            "Epoch 3/25\n",
            "217/217 [==============================] - 1s 6ms/step - loss: 1.1587 - accuracy: 0.5919 - val_loss: 0.4560 - val_accuracy: 0.9148\n",
            "Epoch 4/25\n",
            "217/217 [==============================] - 1s 7ms/step - loss: 0.9605 - accuracy: 0.6537 - val_loss: 0.3512 - val_accuracy: 0.9392\n",
            "Epoch 5/25\n",
            "217/217 [==============================] - 1s 7ms/step - loss: 0.8273 - accuracy: 0.6943 - val_loss: 0.2930 - val_accuracy: 0.9418\n",
            "Epoch 6/25\n",
            "217/217 [==============================] - 1s 5ms/step - loss: 0.7471 - accuracy: 0.7241 - val_loss: 0.2680 - val_accuracy: 0.9409\n",
            "Epoch 7/25\n",
            "217/217 [==============================] - 1s 5ms/step - loss: 0.6759 - accuracy: 0.7484 - val_loss: 0.2500 - val_accuracy: 0.9424\n",
            "Epoch 8/25\n",
            "217/217 [==============================] - 1s 5ms/step - loss: 0.6266 - accuracy: 0.7662 - val_loss: 0.2258 - val_accuracy: 0.9481\n",
            "Epoch 9/25\n",
            "217/217 [==============================] - 1s 5ms/step - loss: 0.5773 - accuracy: 0.7807 - val_loss: 0.2235 - val_accuracy: 0.9470\n",
            "Epoch 10/25\n",
            "217/217 [==============================] - 1s 6ms/step - loss: 0.5680 - accuracy: 0.7819 - val_loss: 0.2362 - val_accuracy: 0.9458\n",
            "Epoch 11/25\n",
            "217/217 [==============================] - 1s 6ms/step - loss: 0.5383 - accuracy: 0.7924 - val_loss: 0.2030 - val_accuracy: 0.9516\n",
            "Epoch 12/25\n",
            "217/217 [==============================] - 1s 6ms/step - loss: 0.4992 - accuracy: 0.8053 - val_loss: 0.2160 - val_accuracy: 0.9510\n",
            "Epoch 13/25\n",
            "217/217 [==============================] - 1s 6ms/step - loss: 0.4959 - accuracy: 0.8101 - val_loss: 0.2075 - val_accuracy: 0.9476\n",
            "Epoch 14/25\n",
            "217/217 [==============================] - 2s 7ms/step - loss: 0.4798 - accuracy: 0.8215 - val_loss: 0.2205 - val_accuracy: 0.9444\n",
            "Epoch 15/25\n",
            "217/217 [==============================] - 1s 7ms/step - loss: 0.4749 - accuracy: 0.8167 - val_loss: 0.2092 - val_accuracy: 0.9499\n",
            "Epoch 16/25\n",
            "217/217 [==============================] - 1s 5ms/step - loss: 0.4355 - accuracy: 0.8302 - val_loss: 0.2245 - val_accuracy: 0.9484\n",
            "Epoch 17/25\n",
            "217/217 [==============================] - 1s 6ms/step - loss: 0.4342 - accuracy: 0.8313 - val_loss: 0.2219 - val_accuracy: 0.9502\n",
            "Epoch 18/25\n",
            "217/217 [==============================] - 1s 5ms/step - loss: 0.4329 - accuracy: 0.8362 - val_loss: 0.2218 - val_accuracy: 0.9490\n",
            "Epoch 19/25\n",
            "217/217 [==============================] - 1s 6ms/step - loss: 0.4263 - accuracy: 0.8333 - val_loss: 0.2099 - val_accuracy: 0.9545\n",
            "Epoch 20/25\n",
            "217/217 [==============================] - 1s 5ms/step - loss: 0.4094 - accuracy: 0.8386 - val_loss: 0.2111 - val_accuracy: 0.9522\n",
            "Epoch 21/25\n",
            "217/217 [==============================] - 1s 5ms/step - loss: 0.4113 - accuracy: 0.8415 - val_loss: 0.2154 - val_accuracy: 0.9528\n",
            "Epoch 22/25\n",
            "217/217 [==============================] - 1s 5ms/step - loss: 0.4034 - accuracy: 0.8415 - val_loss: 0.2129 - val_accuracy: 0.9499\n",
            "Epoch 23/25\n",
            "217/217 [==============================] - 1s 6ms/step - loss: 0.4056 - accuracy: 0.8386 - val_loss: 0.2312 - val_accuracy: 0.9513\n",
            "Epoch 24/25\n",
            "217/217 [==============================] - 1s 7ms/step - loss: 0.3857 - accuracy: 0.8517 - val_loss: 0.2474 - val_accuracy: 0.9502\n",
            "Epoch 25/25\n",
            "217/217 [==============================] - 1s 5ms/step - loss: 0.3864 - accuracy: 0.8497 - val_loss: 0.2226 - val_accuracy: 0.9519\n"
          ]
        },
        {
          "output_type": "display_data",
          "data": {
            "text/plain": [
              "<Figure size 640x480 with 1 Axes>"
            ],
            "image/png": "[encoded data removed]"
          },
          "metadata": {}
        }
      ]
    },
    {
      "cell_type": "code",
      "source": [
        "val_accuracy = str(round(max(history.history['val_accuracy']) * 100, 2))\n",
        "val_accuracy += ' %'\n",
        "val_loss = str(round(min(history.history['val_loss']) * 100, 2))\n",
        "val_loss += ' %'\n",
        "\n",
        "df = pd.DataFrame(\n",
        "    {'val_accuracy': [val_accuracy],\n",
        "     'val_loss': [val_loss]\n",
        "     }, index=['Bag of Words'])\n",
        "\n",
        "print(df)"
      ],
      "metadata": {
        "colab": {
          "base_uri": "https://localhost:8080/"
        },
        "id": "wrsyNa82tkav",
        "outputId": "ebddbf98-abce-4635-c2ea-c47ae670de31"
      },
      "execution_count": null,
      "outputs": [
        {
          "output_type": "stream",
          "name": "stdout",
          "text": [
            "             val_accuracy val_loss\n",
            "Bag of Words      95.45 %   20.3 %\n"
          ]
        }
      ]
    },
    {
      "cell_type": "markdown",
      "source": [
        "## Создаём линейную модель сети для обучения c **Embedding-слоем**:"
      ],
      "metadata": {
        "id": "LQxVVV5IrHxN"
      }
    },
    {
      "cell_type": "code",
      "source": [
        "modelEmb = Sequential()                                               # Создаём последовательную модель нейросети \n",
        "modelEmb.add(Embedding(maxWordsCount, 60, input_length=sample_len))   # Слой Embedding (c указанием размерности вектора и длины входных данных)\n",
        "modelEmb.add(BatchNormalization())                                    # Добавляем слой нормализации данных\n",
        "modelEmb.add(Dense(20))                                               # Полносвязный слой\n",
        "modelEmb.add(Dropout(0.7))                                            # Слой регуляризации Dropout\n",
        "modelEmb.add(Flatten())                                               # Выравнивающий слой\n",
        "modelEmb.add(Dense(20, activation='sigmoid'))                         # Полносвязный выходной слой на 6 нейронов\n",
        "\n",
        "modelEmb.compile(optimizer='rmsprop',                                 # Компиляция модели\n",
        "              loss='categorical_crossentropy', \n",
        "              metrics=['accuracy'])\n",
        "\n",
        "modelEmb.summary()                                                    # Обобщение информации по модели"
      ],
      "metadata": {
        "colab": {
          "base_uri": "https://localhost:8080/"
        },
        "id": "27HDWI3KrI9B",
        "outputId": "70bfdcd6-a242-4eed-c5e5-a0bde0d90103"
      },
      "execution_count": null,
      "outputs": [
        {
          "output_type": "stream",
          "name": "stdout",
          "text": [
            "Model: \"sequential_5\"\n",
            "_________________________________________________________________\n",
            " Layer (type)                Output Shape              Param #   \n",
            "=================================================================\n",
            " embedding_1 (Embedding)     (None, 1000, 60)          900000    \n",
            "                                                                 \n",
            " batch_normalization_5 (Batc  (None, 1000, 60)         240       \n",
            " hNormalization)                                                 \n",
            "                                                                 \n",
            " dense_13 (Dense)            (None, 1000, 20)          1220      \n",
            "                                                                 \n",
            " dropout_5 (Dropout)         (None, 1000, 20)          0         \n",
            "                                                                 \n",
            " flatten_1 (Flatten)         (None, 20000)             0         \n",
            "                                                                 \n",
            " dense_14 (Dense)            (None, 20)                400020    \n",
            "                                                                 \n",
            "=================================================================\n",
            "Total params: 1,301,480\n",
            "Trainable params: 1,301,360\n",
            "Non-trainable params: 120\n",
            "_________________________________________________________________\n"
          ]
        }
      ]
    },
    {
      "cell_type": "code",
      "source": [
        "# Обучение сети Embedding + Dense\n",
        "history2 = modelEmb.fit(x_train, y_train, \n",
        "                    epochs=20, batch_size=64, \n",
        "                    validation_data=(x_test, y_test))\n",
        "\n",
        "# Отрисовка графика точностей обучения по эпохам\n",
        "plt.plot(history.history['accuracy'], \n",
        "         label='Доля верных ответов на обучающем наборе')\n",
        "plt.plot(history.history['val_accuracy'], \n",
        "         label='Доля верных ответов на проверочном наборе')\n",
        "plt.xlabel('Эпоха обучения')\n",
        "plt.ylabel('Доля верных ответов')\n",
        "plt.legend()\n",
        "plt.show()"
      ],
      "metadata": {
        "colab": {
          "base_uri": "https://localhost:8080/",
          "height": 1000
        },
        "id": "dcZx-Ig6rLa1",
        "outputId": "4be44370-f001-4bb9-ba5c-6cfd8cf1eb8b"
      },
      "execution_count": null,
      "outputs": [
        {
          "output_type": "stream",
          "name": "stdout",
          "text": [
            "Epoch 1/20\n",
            "217/217 [==============================] - 4s 20ms/step - loss: 0.0675 - accuracy: 0.9816 - val_loss: 1.5382 - val_accuracy: 0.7442\n",
            "Epoch 2/20\n",
            "217/217 [==============================] - 3s 13ms/step - loss: 0.0513 - accuracy: 0.9869 - val_loss: 1.6377 - val_accuracy: 0.7514\n",
            "Epoch 3/20\n",
            "217/217 [==============================] - 3s 13ms/step - loss: 0.0565 - accuracy: 0.9855 - val_loss: 1.6281 - val_accuracy: 0.7373\n",
            "Epoch 4/20\n",
            "217/217 [==============================] - 2s 11ms/step - loss: 0.0437 - accuracy: 0.9874 - val_loss: 1.5018 - val_accuracy: 0.7659\n",
            "Epoch 5/20\n",
            "217/217 [==============================] - 3s 13ms/step - loss: 0.0517 - accuracy: 0.9858 - val_loss: 1.4517 - val_accuracy: 0.7761\n",
            "Epoch 6/20\n",
            "217/217 [==============================] - 3s 12ms/step - loss: 0.0438 - accuracy: 0.9876 - val_loss: 1.5755 - val_accuracy: 0.7572\n",
            "Epoch 7/20\n",
            "217/217 [==============================] - 2s 10ms/step - loss: 0.0495 - accuracy: 0.9868 - val_loss: 1.4255 - val_accuracy: 0.7688\n",
            "Epoch 8/20\n",
            "217/217 [==============================] - 2s 11ms/step - loss: 0.0526 - accuracy: 0.9861 - val_loss: 1.7825 - val_accuracy: 0.7488\n",
            "Epoch 9/20\n",
            "217/217 [==============================] - 2s 10ms/step - loss: 0.0431 - accuracy: 0.9881 - val_loss: 1.5628 - val_accuracy: 0.7619\n",
            "Epoch 10/20\n",
            "217/217 [==============================] - 2s 11ms/step - loss: 0.0434 - accuracy: 0.9888 - val_loss: 1.4772 - val_accuracy: 0.7755\n",
            "Epoch 11/20\n",
            "217/217 [==============================] - 2s 10ms/step - loss: 0.0456 - accuracy: 0.9897 - val_loss: 1.3888 - val_accuracy: 0.7853\n",
            "Epoch 12/20\n",
            "217/217 [==============================] - 2s 10ms/step - loss: 0.0472 - accuracy: 0.9894 - val_loss: 1.6076 - val_accuracy: 0.7639\n",
            "Epoch 13/20\n",
            "217/217 [==============================] - 2s 9ms/step - loss: 0.0425 - accuracy: 0.9889 - val_loss: 1.4902 - val_accuracy: 0.7717\n",
            "Epoch 14/20\n",
            "217/217 [==============================] - 2s 10ms/step - loss: 0.0421 - accuracy: 0.9897 - val_loss: 1.6090 - val_accuracy: 0.7575\n",
            "Epoch 15/20\n",
            "217/217 [==============================] - 2s 10ms/step - loss: 0.0385 - accuracy: 0.9901 - val_loss: 1.5951 - val_accuracy: 0.7523\n",
            "Epoch 16/20\n",
            "217/217 [==============================] - 2s 11ms/step - loss: 0.0374 - accuracy: 0.9897 - val_loss: 1.4701 - val_accuracy: 0.7749\n",
            "Epoch 17/20\n",
            "217/217 [==============================] - 2s 11ms/step - loss: 0.0337 - accuracy: 0.9920 - val_loss: 1.5801 - val_accuracy: 0.7801\n",
            "Epoch 18/20\n",
            "217/217 [==============================] - 2s 9ms/step - loss: 0.0352 - accuracy: 0.9912 - val_loss: 1.5370 - val_accuracy: 0.7877\n",
            "Epoch 19/20\n",
            "217/217 [==============================] - 2s 11ms/step - loss: 0.0390 - accuracy: 0.9901 - val_loss: 1.4557 - val_accuracy: 0.7772\n",
            "Epoch 20/20\n",
            "217/217 [==============================] - 2s 8ms/step - loss: 0.0330 - accuracy: 0.9914 - val_loss: 1.4681 - val_accuracy: 0.7929\n"
          ]
        },
        {
          "output_type": "display_data",
          "data": {
            "text/plain": [
              "<Figure size 640x480 with 1 Axes>"
            ],
            "image/png": "[encoded data removed]"
          },
          "metadata": {}
        }
      ]
    },
    {
      "cell_type": "markdown",
      "source": [
        "# Результаты"
      ],
      "metadata": {
        "id": "TRCag-QuxAwk"
      }
    },
    {
      "cell_type": "code",
      "source": [
        "val_accuracy = str(round(max(history2.history['val_accuracy']) * 100, 2))\n",
        "val_accuracy += ' %'\n",
        "val_loss = str(round(min(history2.history['val_loss']) * 100, 2))\n",
        "val_loss += ' %'\n",
        "\n",
        "df2 = pd.DataFrame(\n",
        "    {'val_accuracy': [val_accuracy],\n",
        "     'val_loss': [val_loss]\n",
        "     }, index=['Embedding'])\n",
        "\n",
        "df3 = pd.concat([df, df2])\n",
        "\n",
        "print(df3)"
      ],
      "metadata": {
        "colab": {
          "base_uri": "https://localhost:8080/"
        },
        "id": "tUPY50YVvnRD",
        "outputId": "02e555ae-e039-408b-90e5-3d9998dee970"
      },
      "execution_count": null,
      "outputs": [
        {
          "output_type": "stream",
          "name": "stdout",
          "text": [
            "             val_accuracy  val_loss\n",
            "Bag of Words      95.45 %    20.3 %\n",
            "Embedding         79.29 %  138.88 %\n"
          ]
        }
      ]
    },
    {
      "cell_type": "markdown",
      "source": [
        "Задача решена"
      ],
      "metadata": {
        "id": "zlrwFPtYxCZI"
      }
    }
  ]
}